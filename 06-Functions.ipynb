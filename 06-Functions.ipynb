{
 "metadata": {
  "name": "06-Functions"
 },
 "nbformat": 3,
 "nbformat_minor": 0,
 "worksheets": [
  {
   "cells": [
    {
     "cell_type": "code",
     "collapsed": false,
     "input": [
      "from ipythonblocks import colors, BlockGrid, show_color\n"
     ],
     "language": "python",
     "metadata": {},
     "outputs": [],
     "prompt_number": 2
    },
    {
     "cell_type": "code",
     "collapsed": false,
     "input": [
      "## recreate the same grid from FeelingLoopy\n",
      "\n",
      "def make_grid():\n",
      "    newgrid = BlockGrid(10, 10, fill=colors['DarkSlateGray'])\n",
      "    add_stripe(newgrid)\n",
      "    return newgrid\n",
      "\n",
      "def add_stripe(grid):\n",
      "    for block in grid:\n",
      "        if block.row == 2 or block.col == 4:\n",
      "            block.rgb = colors['Pink']\n",
      "\n",
      "## now let's call our new function and show the grid\n",
      "make_grid()"
     ],
     "language": "python",
     "metadata": {},
     "outputs": [
      {
       "html": [
        "<style type=\"text/css\">table.blockgrid {border: none;} .blockgrid tr {border: none;} .blockgrid td {padding: 0px;} #blocks8dc02954-2d32-4a28-9e1a-ab1d9fefcc04 td {border: 1px solid white;}</style><table id=\"blocks8dc02954-2d32-4a28-9e1a-ab1d9fefcc04\" class=\"blockgrid\"><tbody><tr><td title=\"Index: [0, 0]&#10;Color: (47, 79, 79)\" style=\"width: 20px; height: 20px;background-color: rgb(47, 79, 79);\"></td><td title=\"Index: [0, 1]&#10;Color: (47, 79, 79)\" style=\"width: 20px; height: 20px;background-color: rgb(47, 79, 79);\"></td><td title=\"Index: [0, 2]&#10;Color: (47, 79, 79)\" style=\"width: 20px; height: 20px;background-color: rgb(47, 79, 79);\"></td><td title=\"Index: [0, 3]&#10;Color: (47, 79, 79)\" style=\"width: 20px; height: 20px;background-color: rgb(47, 79, 79);\"></td><td title=\"Index: [0, 4]&#10;Color: (255, 192, 203)\" style=\"width: 20px; height: 20px;background-color: rgb(255, 192, 203);\"></td><td title=\"Index: [0, 5]&#10;Color: (47, 79, 79)\" style=\"width: 20px; height: 20px;background-color: rgb(47, 79, 79);\"></td><td title=\"Index: [0, 6]&#10;Color: (47, 79, 79)\" style=\"width: 20px; height: 20px;background-color: rgb(47, 79, 79);\"></td><td title=\"Index: [0, 7]&#10;Color: (47, 79, 79)\" style=\"width: 20px; height: 20px;background-color: rgb(47, 79, 79);\"></td><td title=\"Index: [0, 8]&#10;Color: (47, 79, 79)\" style=\"width: 20px; height: 20px;background-color: rgb(47, 79, 79);\"></td><td title=\"Index: [0, 9]&#10;Color: (47, 79, 79)\" style=\"width: 20px; height: 20px;background-color: rgb(47, 79, 79);\"></td></tr><tr><td title=\"Index: [1, 0]&#10;Color: (47, 79, 79)\" style=\"width: 20px; height: 20px;background-color: rgb(47, 79, 79);\"></td><td title=\"Index: [1, 1]&#10;Color: (47, 79, 79)\" style=\"width: 20px; height: 20px;background-color: rgb(47, 79, 79);\"></td><td title=\"Index: [1, 2]&#10;Color: (47, 79, 79)\" style=\"width: 20px; height: 20px;background-color: rgb(47, 79, 79);\"></td><td title=\"Index: [1, 3]&#10;Color: (47, 79, 79)\" style=\"width: 20px; height: 20px;background-color: rgb(47, 79, 79);\"></td><td title=\"Index: [1, 4]&#10;Color: (255, 192, 203)\" style=\"width: 20px; height: 20px;background-color: rgb(255, 192, 203);\"></td><td title=\"Index: [1, 5]&#10;Color: (47, 79, 79)\" style=\"width: 20px; height: 20px;background-color: rgb(47, 79, 79);\"></td><td title=\"Index: [1, 6]&#10;Color: (47, 79, 79)\" style=\"width: 20px; height: 20px;background-color: rgb(47, 79, 79);\"></td><td title=\"Index: [1, 7]&#10;Color: (47, 79, 79)\" style=\"width: 20px; height: 20px;background-color: rgb(47, 79, 79);\"></td><td title=\"Index: [1, 8]&#10;Color: (47, 79, 79)\" style=\"width: 20px; height: 20px;background-color: rgb(47, 79, 79);\"></td><td title=\"Index: [1, 9]&#10;Color: (47, 79, 79)\" style=\"width: 20px; height: 20px;background-color: rgb(47, 79, 79);\"></td></tr><tr><td title=\"Index: [2, 0]&#10;Color: (255, 192, 203)\" style=\"width: 20px; height: 20px;background-color: rgb(255, 192, 203);\"></td><td title=\"Index: [2, 1]&#10;Color: (255, 192, 203)\" style=\"width: 20px; height: 20px;background-color: rgb(255, 192, 203);\"></td><td title=\"Index: [2, 2]&#10;Color: (255, 192, 203)\" style=\"width: 20px; height: 20px;background-color: rgb(255, 192, 203);\"></td><td title=\"Index: [2, 3]&#10;Color: (255, 192, 203)\" style=\"width: 20px; height: 20px;background-color: rgb(255, 192, 203);\"></td><td title=\"Index: [2, 4]&#10;Color: (255, 192, 203)\" style=\"width: 20px; height: 20px;background-color: rgb(255, 192, 203);\"></td><td title=\"Index: [2, 5]&#10;Color: (255, 192, 203)\" style=\"width: 20px; height: 20px;background-color: rgb(255, 192, 203);\"></td><td title=\"Index: [2, 6]&#10;Color: (255, 192, 203)\" style=\"width: 20px; height: 20px;background-color: rgb(255, 192, 203);\"></td><td title=\"Index: [2, 7]&#10;Color: (255, 192, 203)\" style=\"width: 20px; height: 20px;background-color: rgb(255, 192, 203);\"></td><td title=\"Index: [2, 8]&#10;Color: (255, 192, 203)\" style=\"width: 20px; height: 20px;background-color: rgb(255, 192, 203);\"></td><td title=\"Index: [2, 9]&#10;Color: (255, 192, 203)\" style=\"width: 20px; height: 20px;background-color: rgb(255, 192, 203);\"></td></tr><tr><td title=\"Index: [3, 0]&#10;Color: (47, 79, 79)\" style=\"width: 20px; height: 20px;background-color: rgb(47, 79, 79);\"></td><td title=\"Index: [3, 1]&#10;Color: (47, 79, 79)\" style=\"width: 20px; height: 20px;background-color: rgb(47, 79, 79);\"></td><td title=\"Index: [3, 2]&#10;Color: (47, 79, 79)\" style=\"width: 20px; height: 20px;background-color: rgb(47, 79, 79);\"></td><td title=\"Index: [3, 3]&#10;Color: (47, 79, 79)\" style=\"width: 20px; height: 20px;background-color: rgb(47, 79, 79);\"></td><td title=\"Index: [3, 4]&#10;Color: (255, 192, 203)\" style=\"width: 20px; height: 20px;background-color: rgb(255, 192, 203);\"></td><td title=\"Index: [3, 5]&#10;Color: (47, 79, 79)\" style=\"width: 20px; height: 20px;background-color: rgb(47, 79, 79);\"></td><td title=\"Index: [3, 6]&#10;Color: (47, 79, 79)\" style=\"width: 20px; height: 20px;background-color: rgb(47, 79, 79);\"></td><td title=\"Index: [3, 7]&#10;Color: (47, 79, 79)\" style=\"width: 20px; height: 20px;background-color: rgb(47, 79, 79);\"></td><td title=\"Index: [3, 8]&#10;Color: (47, 79, 79)\" style=\"width: 20px; height: 20px;background-color: rgb(47, 79, 79);\"></td><td title=\"Index: [3, 9]&#10;Color: (47, 79, 79)\" style=\"width: 20px; height: 20px;background-color: rgb(47, 79, 79);\"></td></tr><tr><td title=\"Index: [4, 0]&#10;Color: (47, 79, 79)\" style=\"width: 20px; height: 20px;background-color: rgb(47, 79, 79);\"></td><td title=\"Index: [4, 1]&#10;Color: (47, 79, 79)\" style=\"width: 20px; height: 20px;background-color: rgb(47, 79, 79);\"></td><td title=\"Index: [4, 2]&#10;Color: (47, 79, 79)\" style=\"width: 20px; height: 20px;background-color: rgb(47, 79, 79);\"></td><td title=\"Index: [4, 3]&#10;Color: (47, 79, 79)\" style=\"width: 20px; height: 20px;background-color: rgb(47, 79, 79);\"></td><td title=\"Index: [4, 4]&#10;Color: (255, 192, 203)\" style=\"width: 20px; height: 20px;background-color: rgb(255, 192, 203);\"></td><td title=\"Index: [4, 5]&#10;Color: (47, 79, 79)\" style=\"width: 20px; height: 20px;background-color: rgb(47, 79, 79);\"></td><td title=\"Index: [4, 6]&#10;Color: (47, 79, 79)\" style=\"width: 20px; height: 20px;background-color: rgb(47, 79, 79);\"></td><td title=\"Index: [4, 7]&#10;Color: (47, 79, 79)\" style=\"width: 20px; height: 20px;background-color: rgb(47, 79, 79);\"></td><td title=\"Index: [4, 8]&#10;Color: (47, 79, 79)\" style=\"width: 20px; height: 20px;background-color: rgb(47, 79, 79);\"></td><td title=\"Index: [4, 9]&#10;Color: (47, 79, 79)\" style=\"width: 20px; height: 20px;background-color: rgb(47, 79, 79);\"></td></tr><tr><td title=\"Index: [5, 0]&#10;Color: (47, 79, 79)\" style=\"width: 20px; height: 20px;background-color: rgb(47, 79, 79);\"></td><td title=\"Index: [5, 1]&#10;Color: (47, 79, 79)\" style=\"width: 20px; height: 20px;background-color: rgb(47, 79, 79);\"></td><td title=\"Index: [5, 2]&#10;Color: (47, 79, 79)\" style=\"width: 20px; height: 20px;background-color: rgb(47, 79, 79);\"></td><td title=\"Index: [5, 3]&#10;Color: (47, 79, 79)\" style=\"width: 20px; height: 20px;background-color: rgb(47, 79, 79);\"></td><td title=\"Index: [5, 4]&#10;Color: (255, 192, 203)\" style=\"width: 20px; height: 20px;background-color: rgb(255, 192, 203);\"></td><td title=\"Index: [5, 5]&#10;Color: (47, 79, 79)\" style=\"width: 20px; height: 20px;background-color: rgb(47, 79, 79);\"></td><td title=\"Index: [5, 6]&#10;Color: (47, 79, 79)\" style=\"width: 20px; height: 20px;background-color: rgb(47, 79, 79);\"></td><td title=\"Index: [5, 7]&#10;Color: (47, 79, 79)\" style=\"width: 20px; height: 20px;background-color: rgb(47, 79, 79);\"></td><td title=\"Index: [5, 8]&#10;Color: (47, 79, 79)\" style=\"width: 20px; height: 20px;background-color: rgb(47, 79, 79);\"></td><td title=\"Index: [5, 9]&#10;Color: (47, 79, 79)\" style=\"width: 20px; height: 20px;background-color: rgb(47, 79, 79);\"></td></tr><tr><td title=\"Index: [6, 0]&#10;Color: (47, 79, 79)\" style=\"width: 20px; height: 20px;background-color: rgb(47, 79, 79);\"></td><td title=\"Index: [6, 1]&#10;Color: (47, 79, 79)\" style=\"width: 20px; height: 20px;background-color: rgb(47, 79, 79);\"></td><td title=\"Index: [6, 2]&#10;Color: (47, 79, 79)\" style=\"width: 20px; height: 20px;background-color: rgb(47, 79, 79);\"></td><td title=\"Index: [6, 3]&#10;Color: (47, 79, 79)\" style=\"width: 20px; height: 20px;background-color: rgb(47, 79, 79);\"></td><td title=\"Index: [6, 4]&#10;Color: (255, 192, 203)\" style=\"width: 20px; height: 20px;background-color: rgb(255, 192, 203);\"></td><td title=\"Index: [6, 5]&#10;Color: (47, 79, 79)\" style=\"width: 20px; height: 20px;background-color: rgb(47, 79, 79);\"></td><td title=\"Index: [6, 6]&#10;Color: (47, 79, 79)\" style=\"width: 20px; height: 20px;background-color: rgb(47, 79, 79);\"></td><td title=\"Index: [6, 7]&#10;Color: (47, 79, 79)\" style=\"width: 20px; height: 20px;background-color: rgb(47, 79, 79);\"></td><td title=\"Index: [6, 8]&#10;Color: (47, 79, 79)\" style=\"width: 20px; height: 20px;background-color: rgb(47, 79, 79);\"></td><td title=\"Index: [6, 9]&#10;Color: (47, 79, 79)\" style=\"width: 20px; height: 20px;background-color: rgb(47, 79, 79);\"></td></tr><tr><td title=\"Index: [7, 0]&#10;Color: (47, 79, 79)\" style=\"width: 20px; height: 20px;background-color: rgb(47, 79, 79);\"></td><td title=\"Index: [7, 1]&#10;Color: (47, 79, 79)\" style=\"width: 20px; height: 20px;background-color: rgb(47, 79, 79);\"></td><td title=\"Index: [7, 2]&#10;Color: (47, 79, 79)\" style=\"width: 20px; height: 20px;background-color: rgb(47, 79, 79);\"></td><td title=\"Index: [7, 3]&#10;Color: (47, 79, 79)\" style=\"width: 20px; height: 20px;background-color: rgb(47, 79, 79);\"></td><td title=\"Index: [7, 4]&#10;Color: (255, 192, 203)\" style=\"width: 20px; height: 20px;background-color: rgb(255, 192, 203);\"></td><td title=\"Index: [7, 5]&#10;Color: (47, 79, 79)\" style=\"width: 20px; height: 20px;background-color: rgb(47, 79, 79);\"></td><td title=\"Index: [7, 6]&#10;Color: (47, 79, 79)\" style=\"width: 20px; height: 20px;background-color: rgb(47, 79, 79);\"></td><td title=\"Index: [7, 7]&#10;Color: (47, 79, 79)\" style=\"width: 20px; height: 20px;background-color: rgb(47, 79, 79);\"></td><td title=\"Index: [7, 8]&#10;Color: (47, 79, 79)\" style=\"width: 20px; height: 20px;background-color: rgb(47, 79, 79);\"></td><td title=\"Index: [7, 9]&#10;Color: (47, 79, 79)\" style=\"width: 20px; height: 20px;background-color: rgb(47, 79, 79);\"></td></tr><tr><td title=\"Index: [8, 0]&#10;Color: (47, 79, 79)\" style=\"width: 20px; height: 20px;background-color: rgb(47, 79, 79);\"></td><td title=\"Index: [8, 1]&#10;Color: (47, 79, 79)\" style=\"width: 20px; height: 20px;background-color: rgb(47, 79, 79);\"></td><td title=\"Index: [8, 2]&#10;Color: (47, 79, 79)\" style=\"width: 20px; height: 20px;background-color: rgb(47, 79, 79);\"></td><td title=\"Index: [8, 3]&#10;Color: (47, 79, 79)\" style=\"width: 20px; height: 20px;background-color: rgb(47, 79, 79);\"></td><td title=\"Index: [8, 4]&#10;Color: (255, 192, 203)\" style=\"width: 20px; height: 20px;background-color: rgb(255, 192, 203);\"></td><td title=\"Index: [8, 5]&#10;Color: (47, 79, 79)\" style=\"width: 20px; height: 20px;background-color: rgb(47, 79, 79);\"></td><td title=\"Index: [8, 6]&#10;Color: (47, 79, 79)\" style=\"width: 20px; height: 20px;background-color: rgb(47, 79, 79);\"></td><td title=\"Index: [8, 7]&#10;Color: (47, 79, 79)\" style=\"width: 20px; height: 20px;background-color: rgb(47, 79, 79);\"></td><td title=\"Index: [8, 8]&#10;Color: (47, 79, 79)\" style=\"width: 20px; height: 20px;background-color: rgb(47, 79, 79);\"></td><td title=\"Index: [8, 9]&#10;Color: (47, 79, 79)\" style=\"width: 20px; height: 20px;background-color: rgb(47, 79, 79);\"></td></tr><tr><td title=\"Index: [9, 0]&#10;Color: (47, 79, 79)\" style=\"width: 20px; height: 20px;background-color: rgb(47, 79, 79);\"></td><td title=\"Index: [9, 1]&#10;Color: (47, 79, 79)\" style=\"width: 20px; height: 20px;background-color: rgb(47, 79, 79);\"></td><td title=\"Index: [9, 2]&#10;Color: (47, 79, 79)\" style=\"width: 20px; height: 20px;background-color: rgb(47, 79, 79);\"></td><td title=\"Index: [9, 3]&#10;Color: (47, 79, 79)\" style=\"width: 20px; height: 20px;background-color: rgb(47, 79, 79);\"></td><td title=\"Index: [9, 4]&#10;Color: (255, 192, 203)\" style=\"width: 20px; height: 20px;background-color: rgb(255, 192, 203);\"></td><td title=\"Index: [9, 5]&#10;Color: (47, 79, 79)\" style=\"width: 20px; height: 20px;background-color: rgb(47, 79, 79);\"></td><td title=\"Index: [9, 6]&#10;Color: (47, 79, 79)\" style=\"width: 20px; height: 20px;background-color: rgb(47, 79, 79);\"></td><td title=\"Index: [9, 7]&#10;Color: (47, 79, 79)\" style=\"width: 20px; height: 20px;background-color: rgb(47, 79, 79);\"></td><td title=\"Index: [9, 8]&#10;Color: (47, 79, 79)\" style=\"width: 20px; height: 20px;background-color: rgb(47, 79, 79);\"></td><td title=\"Index: [9, 9]&#10;Color: (47, 79, 79)\" style=\"width: 20px; height: 20px;background-color: rgb(47, 79, 79);\"></td></tr></tbody></table>"
       ],
       "output_type": "pyout",
       "prompt_number": 29,
       "text": [
        "<ipythonblocks.ipythonblocks.BlockGrid at 0x8d8faac>"
       ]
      }
     ],
     "prompt_number": 29
    },
    {
     "cell_type": "code",
     "collapsed": false,
     "input": [
      "## Let's make it more flexible\n",
      "\n",
      "def add_stripe_v2(grid, stripe_color):\n",
      "    for block in grid:\n",
      "        if block.row == 2 or block.col == 4:\n",
      "            block.rgb = colors[stripe_color]\n",
      "        \n",
      "def make_grid_v2(width, height, fill_color, stripe_color):\n",
      "    newgrid = BlockGrid(width, height, fill=colors[fill_color])\n",
      "    add_stripe_v2(newgrid, stripe_color)\n",
      "    return newgrid\n",
      "\n",
      "make_grid_v2(12, 6, 'DarkBlue', 'Pink')\n",
      "\n",
      "## 1) Now, play with the colors and dimentions a bit ...\n",
      "\n",
      "## 2) Do you think you can make the stripe coordinates row 2, col 4 parameters of the functions?"
     ],
     "language": "python",
     "metadata": {},
     "outputs": [
      {
       "html": [
        "<style type=\"text/css\">table.blockgrid {border: none;} .blockgrid tr {border: none;} .blockgrid td {padding: 0px;} #blocksb6e82062-c79b-40c1-bae6-8f4307ce3452 td {border: 1px solid white;}</style><table id=\"blocksb6e82062-c79b-40c1-bae6-8f4307ce3452\" class=\"blockgrid\"><tbody><tr><td title=\"Index: [0, 0]&#10;Color: (0, 0, 139)\" style=\"width: 20px; height: 20px;background-color: rgb(0, 0, 139);\"></td><td title=\"Index: [0, 1]&#10;Color: (0, 0, 139)\" style=\"width: 20px; height: 20px;background-color: rgb(0, 0, 139);\"></td><td title=\"Index: [0, 2]&#10;Color: (0, 0, 139)\" style=\"width: 20px; height: 20px;background-color: rgb(0, 0, 139);\"></td><td title=\"Index: [0, 3]&#10;Color: (0, 0, 139)\" style=\"width: 20px; height: 20px;background-color: rgb(0, 0, 139);\"></td><td title=\"Index: [0, 4]&#10;Color: (255, 192, 203)\" style=\"width: 20px; height: 20px;background-color: rgb(255, 192, 203);\"></td><td title=\"Index: [0, 5]&#10;Color: (0, 0, 139)\" style=\"width: 20px; height: 20px;background-color: rgb(0, 0, 139);\"></td><td title=\"Index: [0, 6]&#10;Color: (0, 0, 139)\" style=\"width: 20px; height: 20px;background-color: rgb(0, 0, 139);\"></td><td title=\"Index: [0, 7]&#10;Color: (0, 0, 139)\" style=\"width: 20px; height: 20px;background-color: rgb(0, 0, 139);\"></td><td title=\"Index: [0, 8]&#10;Color: (0, 0, 139)\" style=\"width: 20px; height: 20px;background-color: rgb(0, 0, 139);\"></td><td title=\"Index: [0, 9]&#10;Color: (0, 0, 139)\" style=\"width: 20px; height: 20px;background-color: rgb(0, 0, 139);\"></td><td title=\"Index: [0, 10]&#10;Color: (0, 0, 139)\" style=\"width: 20px; height: 20px;background-color: rgb(0, 0, 139);\"></td><td title=\"Index: [0, 11]&#10;Color: (0, 0, 139)\" style=\"width: 20px; height: 20px;background-color: rgb(0, 0, 139);\"></td></tr><tr><td title=\"Index: [1, 0]&#10;Color: (0, 0, 139)\" style=\"width: 20px; height: 20px;background-color: rgb(0, 0, 139);\"></td><td title=\"Index: [1, 1]&#10;Color: (0, 0, 139)\" style=\"width: 20px; height: 20px;background-color: rgb(0, 0, 139);\"></td><td title=\"Index: [1, 2]&#10;Color: (0, 0, 139)\" style=\"width: 20px; height: 20px;background-color: rgb(0, 0, 139);\"></td><td title=\"Index: [1, 3]&#10;Color: (0, 0, 139)\" style=\"width: 20px; height: 20px;background-color: rgb(0, 0, 139);\"></td><td title=\"Index: [1, 4]&#10;Color: (255, 192, 203)\" style=\"width: 20px; height: 20px;background-color: rgb(255, 192, 203);\"></td><td title=\"Index: [1, 5]&#10;Color: (0, 0, 139)\" style=\"width: 20px; height: 20px;background-color: rgb(0, 0, 139);\"></td><td title=\"Index: [1, 6]&#10;Color: (0, 0, 139)\" style=\"width: 20px; height: 20px;background-color: rgb(0, 0, 139);\"></td><td title=\"Index: [1, 7]&#10;Color: (0, 0, 139)\" style=\"width: 20px; height: 20px;background-color: rgb(0, 0, 139);\"></td><td title=\"Index: [1, 8]&#10;Color: (0, 0, 139)\" style=\"width: 20px; height: 20px;background-color: rgb(0, 0, 139);\"></td><td title=\"Index: [1, 9]&#10;Color: (0, 0, 139)\" style=\"width: 20px; height: 20px;background-color: rgb(0, 0, 139);\"></td><td title=\"Index: [1, 10]&#10;Color: (0, 0, 139)\" style=\"width: 20px; height: 20px;background-color: rgb(0, 0, 139);\"></td><td title=\"Index: [1, 11]&#10;Color: (0, 0, 139)\" style=\"width: 20px; height: 20px;background-color: rgb(0, 0, 139);\"></td></tr><tr><td title=\"Index: [2, 0]&#10;Color: (255, 192, 203)\" style=\"width: 20px; height: 20px;background-color: rgb(255, 192, 203);\"></td><td title=\"Index: [2, 1]&#10;Color: (255, 192, 203)\" style=\"width: 20px; height: 20px;background-color: rgb(255, 192, 203);\"></td><td title=\"Index: [2, 2]&#10;Color: (255, 192, 203)\" style=\"width: 20px; height: 20px;background-color: rgb(255, 192, 203);\"></td><td title=\"Index: [2, 3]&#10;Color: (255, 192, 203)\" style=\"width: 20px; height: 20px;background-color: rgb(255, 192, 203);\"></td><td title=\"Index: [2, 4]&#10;Color: (255, 192, 203)\" style=\"width: 20px; height: 20px;background-color: rgb(255, 192, 203);\"></td><td title=\"Index: [2, 5]&#10;Color: (255, 192, 203)\" style=\"width: 20px; height: 20px;background-color: rgb(255, 192, 203);\"></td><td title=\"Index: [2, 6]&#10;Color: (255, 192, 203)\" style=\"width: 20px; height: 20px;background-color: rgb(255, 192, 203);\"></td><td title=\"Index: [2, 7]&#10;Color: (255, 192, 203)\" style=\"width: 20px; height: 20px;background-color: rgb(255, 192, 203);\"></td><td title=\"Index: [2, 8]&#10;Color: (255, 192, 203)\" style=\"width: 20px; height: 20px;background-color: rgb(255, 192, 203);\"></td><td title=\"Index: [2, 9]&#10;Color: (255, 192, 203)\" style=\"width: 20px; height: 20px;background-color: rgb(255, 192, 203);\"></td><td title=\"Index: [2, 10]&#10;Color: (255, 192, 203)\" style=\"width: 20px; height: 20px;background-color: rgb(255, 192, 203);\"></td><td title=\"Index: [2, 11]&#10;Color: (255, 192, 203)\" style=\"width: 20px; height: 20px;background-color: rgb(255, 192, 203);\"></td></tr><tr><td title=\"Index: [3, 0]&#10;Color: (0, 0, 139)\" style=\"width: 20px; height: 20px;background-color: rgb(0, 0, 139);\"></td><td title=\"Index: [3, 1]&#10;Color: (0, 0, 139)\" style=\"width: 20px; height: 20px;background-color: rgb(0, 0, 139);\"></td><td title=\"Index: [3, 2]&#10;Color: (0, 0, 139)\" style=\"width: 20px; height: 20px;background-color: rgb(0, 0, 139);\"></td><td title=\"Index: [3, 3]&#10;Color: (0, 0, 139)\" style=\"width: 20px; height: 20px;background-color: rgb(0, 0, 139);\"></td><td title=\"Index: [3, 4]&#10;Color: (255, 192, 203)\" style=\"width: 20px; height: 20px;background-color: rgb(255, 192, 203);\"></td><td title=\"Index: [3, 5]&#10;Color: (0, 0, 139)\" style=\"width: 20px; height: 20px;background-color: rgb(0, 0, 139);\"></td><td title=\"Index: [3, 6]&#10;Color: (0, 0, 139)\" style=\"width: 20px; height: 20px;background-color: rgb(0, 0, 139);\"></td><td title=\"Index: [3, 7]&#10;Color: (0, 0, 139)\" style=\"width: 20px; height: 20px;background-color: rgb(0, 0, 139);\"></td><td title=\"Index: [3, 8]&#10;Color: (0, 0, 139)\" style=\"width: 20px; height: 20px;background-color: rgb(0, 0, 139);\"></td><td title=\"Index: [3, 9]&#10;Color: (0, 0, 139)\" style=\"width: 20px; height: 20px;background-color: rgb(0, 0, 139);\"></td><td title=\"Index: [3, 10]&#10;Color: (0, 0, 139)\" style=\"width: 20px; height: 20px;background-color: rgb(0, 0, 139);\"></td><td title=\"Index: [3, 11]&#10;Color: (0, 0, 139)\" style=\"width: 20px; height: 20px;background-color: rgb(0, 0, 139);\"></td></tr><tr><td title=\"Index: [4, 0]&#10;Color: (0, 0, 139)\" style=\"width: 20px; height: 20px;background-color: rgb(0, 0, 139);\"></td><td title=\"Index: [4, 1]&#10;Color: (0, 0, 139)\" style=\"width: 20px; height: 20px;background-color: rgb(0, 0, 139);\"></td><td title=\"Index: [4, 2]&#10;Color: (0, 0, 139)\" style=\"width: 20px; height: 20px;background-color: rgb(0, 0, 139);\"></td><td title=\"Index: [4, 3]&#10;Color: (0, 0, 139)\" style=\"width: 20px; height: 20px;background-color: rgb(0, 0, 139);\"></td><td title=\"Index: [4, 4]&#10;Color: (255, 192, 203)\" style=\"width: 20px; height: 20px;background-color: rgb(255, 192, 203);\"></td><td title=\"Index: [4, 5]&#10;Color: (0, 0, 139)\" style=\"width: 20px; height: 20px;background-color: rgb(0, 0, 139);\"></td><td title=\"Index: [4, 6]&#10;Color: (0, 0, 139)\" style=\"width: 20px; height: 20px;background-color: rgb(0, 0, 139);\"></td><td title=\"Index: [4, 7]&#10;Color: (0, 0, 139)\" style=\"width: 20px; height: 20px;background-color: rgb(0, 0, 139);\"></td><td title=\"Index: [4, 8]&#10;Color: (0, 0, 139)\" style=\"width: 20px; height: 20px;background-color: rgb(0, 0, 139);\"></td><td title=\"Index: [4, 9]&#10;Color: (0, 0, 139)\" style=\"width: 20px; height: 20px;background-color: rgb(0, 0, 139);\"></td><td title=\"Index: [4, 10]&#10;Color: (0, 0, 139)\" style=\"width: 20px; height: 20px;background-color: rgb(0, 0, 139);\"></td><td title=\"Index: [4, 11]&#10;Color: (0, 0, 139)\" style=\"width: 20px; height: 20px;background-color: rgb(0, 0, 139);\"></td></tr><tr><td title=\"Index: [5, 0]&#10;Color: (0, 0, 139)\" style=\"width: 20px; height: 20px;background-color: rgb(0, 0, 139);\"></td><td title=\"Index: [5, 1]&#10;Color: (0, 0, 139)\" style=\"width: 20px; height: 20px;background-color: rgb(0, 0, 139);\"></td><td title=\"Index: [5, 2]&#10;Color: (0, 0, 139)\" style=\"width: 20px; height: 20px;background-color: rgb(0, 0, 139);\"></td><td title=\"Index: [5, 3]&#10;Color: (0, 0, 139)\" style=\"width: 20px; height: 20px;background-color: rgb(0, 0, 139);\"></td><td title=\"Index: [5, 4]&#10;Color: (255, 192, 203)\" style=\"width: 20px; height: 20px;background-color: rgb(255, 192, 203);\"></td><td title=\"Index: [5, 5]&#10;Color: (0, 0, 139)\" style=\"width: 20px; height: 20px;background-color: rgb(0, 0, 139);\"></td><td title=\"Index: [5, 6]&#10;Color: (0, 0, 139)\" style=\"width: 20px; height: 20px;background-color: rgb(0, 0, 139);\"></td><td title=\"Index: [5, 7]&#10;Color: (0, 0, 139)\" style=\"width: 20px; height: 20px;background-color: rgb(0, 0, 139);\"></td><td title=\"Index: [5, 8]&#10;Color: (0, 0, 139)\" style=\"width: 20px; height: 20px;background-color: rgb(0, 0, 139);\"></td><td title=\"Index: [5, 9]&#10;Color: (0, 0, 139)\" style=\"width: 20px; height: 20px;background-color: rgb(0, 0, 139);\"></td><td title=\"Index: [5, 10]&#10;Color: (0, 0, 139)\" style=\"width: 20px; height: 20px;background-color: rgb(0, 0, 139);\"></td><td title=\"Index: [5, 11]&#10;Color: (0, 0, 139)\" style=\"width: 20px; height: 20px;background-color: rgb(0, 0, 139);\"></td></tr></tbody></table>"
       ],
       "output_type": "pyout",
       "prompt_number": 30,
       "text": [
        "<ipythonblocks.ipythonblocks.BlockGrid at 0x8dadc0c>"
       ]
      }
     ],
     "prompt_number": 30
    },
    {
     "cell_type": "code",
     "collapsed": false,
     "input": [
      "## Run this \n",
      "grid = make_grid()\n",
      "\n",
      "def make_blue(block):\n",
      "    block.rgb = colors['Blue']\n",
      "\n",
      "## can you convert the next 2 lines into a function that does the same thing?\n",
      "for block in grid[6]: # row 7\n",
      "    make_blue(block)\n",
      "    \n",
      "grid"
     ],
     "language": "python",
     "metadata": {},
     "outputs": [
      {
       "html": [
        "<style type=\"text/css\">table.blockgrid {border: none;} .blockgrid tr {border: none;} .blockgrid td {padding: 0px;} #blocksd2604261-1a1c-47dd-b23d-1f7736108ed9 td {border: 1px solid white;}</style><table id=\"blocksd2604261-1a1c-47dd-b23d-1f7736108ed9\" class=\"blockgrid\"><tbody><tr><td title=\"Index: [0, 0]&#10;Color: (47, 79, 79)\" style=\"width: 20px; height: 20px;background-color: rgb(47, 79, 79);\"></td><td title=\"Index: [0, 1]&#10;Color: (47, 79, 79)\" style=\"width: 20px; height: 20px;background-color: rgb(47, 79, 79);\"></td><td title=\"Index: [0, 2]&#10;Color: (47, 79, 79)\" style=\"width: 20px; height: 20px;background-color: rgb(47, 79, 79);\"></td><td title=\"Index: [0, 3]&#10;Color: (47, 79, 79)\" style=\"width: 20px; height: 20px;background-color: rgb(47, 79, 79);\"></td><td title=\"Index: [0, 4]&#10;Color: (255, 192, 203)\" style=\"width: 20px; height: 20px;background-color: rgb(255, 192, 203);\"></td><td title=\"Index: [0, 5]&#10;Color: (47, 79, 79)\" style=\"width: 20px; height: 20px;background-color: rgb(47, 79, 79);\"></td><td title=\"Index: [0, 6]&#10;Color: (47, 79, 79)\" style=\"width: 20px; height: 20px;background-color: rgb(47, 79, 79);\"></td><td title=\"Index: [0, 7]&#10;Color: (47, 79, 79)\" style=\"width: 20px; height: 20px;background-color: rgb(47, 79, 79);\"></td><td title=\"Index: [0, 8]&#10;Color: (47, 79, 79)\" style=\"width: 20px; height: 20px;background-color: rgb(47, 79, 79);\"></td><td title=\"Index: [0, 9]&#10;Color: (47, 79, 79)\" style=\"width: 20px; height: 20px;background-color: rgb(47, 79, 79);\"></td></tr><tr><td title=\"Index: [1, 0]&#10;Color: (47, 79, 79)\" style=\"width: 20px; height: 20px;background-color: rgb(47, 79, 79);\"></td><td title=\"Index: [1, 1]&#10;Color: (47, 79, 79)\" style=\"width: 20px; height: 20px;background-color: rgb(47, 79, 79);\"></td><td title=\"Index: [1, 2]&#10;Color: (47, 79, 79)\" style=\"width: 20px; height: 20px;background-color: rgb(47, 79, 79);\"></td><td title=\"Index: [1, 3]&#10;Color: (47, 79, 79)\" style=\"width: 20px; height: 20px;background-color: rgb(47, 79, 79);\"></td><td title=\"Index: [1, 4]&#10;Color: (255, 192, 203)\" style=\"width: 20px; height: 20px;background-color: rgb(255, 192, 203);\"></td><td title=\"Index: [1, 5]&#10;Color: (47, 79, 79)\" style=\"width: 20px; height: 20px;background-color: rgb(47, 79, 79);\"></td><td title=\"Index: [1, 6]&#10;Color: (47, 79, 79)\" style=\"width: 20px; height: 20px;background-color: rgb(47, 79, 79);\"></td><td title=\"Index: [1, 7]&#10;Color: (47, 79, 79)\" style=\"width: 20px; height: 20px;background-color: rgb(47, 79, 79);\"></td><td title=\"Index: [1, 8]&#10;Color: (47, 79, 79)\" style=\"width: 20px; height: 20px;background-color: rgb(47, 79, 79);\"></td><td title=\"Index: [1, 9]&#10;Color: (47, 79, 79)\" style=\"width: 20px; height: 20px;background-color: rgb(47, 79, 79);\"></td></tr><tr><td title=\"Index: [2, 0]&#10;Color: (255, 192, 203)\" style=\"width: 20px; height: 20px;background-color: rgb(255, 192, 203);\"></td><td title=\"Index: [2, 1]&#10;Color: (255, 192, 203)\" style=\"width: 20px; height: 20px;background-color: rgb(255, 192, 203);\"></td><td title=\"Index: [2, 2]&#10;Color: (255, 192, 203)\" style=\"width: 20px; height: 20px;background-color: rgb(255, 192, 203);\"></td><td title=\"Index: [2, 3]&#10;Color: (255, 192, 203)\" style=\"width: 20px; height: 20px;background-color: rgb(255, 192, 203);\"></td><td title=\"Index: [2, 4]&#10;Color: (255, 192, 203)\" style=\"width: 20px; height: 20px;background-color: rgb(255, 192, 203);\"></td><td title=\"Index: [2, 5]&#10;Color: (255, 192, 203)\" style=\"width: 20px; height: 20px;background-color: rgb(255, 192, 203);\"></td><td title=\"Index: [2, 6]&#10;Color: (255, 192, 203)\" style=\"width: 20px; height: 20px;background-color: rgb(255, 192, 203);\"></td><td title=\"Index: [2, 7]&#10;Color: (255, 192, 203)\" style=\"width: 20px; height: 20px;background-color: rgb(255, 192, 203);\"></td><td title=\"Index: [2, 8]&#10;Color: (255, 192, 203)\" style=\"width: 20px; height: 20px;background-color: rgb(255, 192, 203);\"></td><td title=\"Index: [2, 9]&#10;Color: (255, 192, 203)\" style=\"width: 20px; height: 20px;background-color: rgb(255, 192, 203);\"></td></tr><tr><td title=\"Index: [3, 0]&#10;Color: (47, 79, 79)\" style=\"width: 20px; height: 20px;background-color: rgb(47, 79, 79);\"></td><td title=\"Index: [3, 1]&#10;Color: (47, 79, 79)\" style=\"width: 20px; height: 20px;background-color: rgb(47, 79, 79);\"></td><td title=\"Index: [3, 2]&#10;Color: (47, 79, 79)\" style=\"width: 20px; height: 20px;background-color: rgb(47, 79, 79);\"></td><td title=\"Index: [3, 3]&#10;Color: (47, 79, 79)\" style=\"width: 20px; height: 20px;background-color: rgb(47, 79, 79);\"></td><td title=\"Index: [3, 4]&#10;Color: (255, 192, 203)\" style=\"width: 20px; height: 20px;background-color: rgb(255, 192, 203);\"></td><td title=\"Index: [3, 5]&#10;Color: (47, 79, 79)\" style=\"width: 20px; height: 20px;background-color: rgb(47, 79, 79);\"></td><td title=\"Index: [3, 6]&#10;Color: (47, 79, 79)\" style=\"width: 20px; height: 20px;background-color: rgb(47, 79, 79);\"></td><td title=\"Index: [3, 7]&#10;Color: (47, 79, 79)\" style=\"width: 20px; height: 20px;background-color: rgb(47, 79, 79);\"></td><td title=\"Index: [3, 8]&#10;Color: (47, 79, 79)\" style=\"width: 20px; height: 20px;background-color: rgb(47, 79, 79);\"></td><td title=\"Index: [3, 9]&#10;Color: (47, 79, 79)\" style=\"width: 20px; height: 20px;background-color: rgb(47, 79, 79);\"></td></tr><tr><td title=\"Index: [4, 0]&#10;Color: (47, 79, 79)\" style=\"width: 20px; height: 20px;background-color: rgb(47, 79, 79);\"></td><td title=\"Index: [4, 1]&#10;Color: (47, 79, 79)\" style=\"width: 20px; height: 20px;background-color: rgb(47, 79, 79);\"></td><td title=\"Index: [4, 2]&#10;Color: (47, 79, 79)\" style=\"width: 20px; height: 20px;background-color: rgb(47, 79, 79);\"></td><td title=\"Index: [4, 3]&#10;Color: (47, 79, 79)\" style=\"width: 20px; height: 20px;background-color: rgb(47, 79, 79);\"></td><td title=\"Index: [4, 4]&#10;Color: (255, 192, 203)\" style=\"width: 20px; height: 20px;background-color: rgb(255, 192, 203);\"></td><td title=\"Index: [4, 5]&#10;Color: (47, 79, 79)\" style=\"width: 20px; height: 20px;background-color: rgb(47, 79, 79);\"></td><td title=\"Index: [4, 6]&#10;Color: (47, 79, 79)\" style=\"width: 20px; height: 20px;background-color: rgb(47, 79, 79);\"></td><td title=\"Index: [4, 7]&#10;Color: (47, 79, 79)\" style=\"width: 20px; height: 20px;background-color: rgb(47, 79, 79);\"></td><td title=\"Index: [4, 8]&#10;Color: (47, 79, 79)\" style=\"width: 20px; height: 20px;background-color: rgb(47, 79, 79);\"></td><td title=\"Index: [4, 9]&#10;Color: (47, 79, 79)\" style=\"width: 20px; height: 20px;background-color: rgb(47, 79, 79);\"></td></tr><tr><td title=\"Index: [5, 0]&#10;Color: (47, 79, 79)\" style=\"width: 20px; height: 20px;background-color: rgb(47, 79, 79);\"></td><td title=\"Index: [5, 1]&#10;Color: (47, 79, 79)\" style=\"width: 20px; height: 20px;background-color: rgb(47, 79, 79);\"></td><td title=\"Index: [5, 2]&#10;Color: (47, 79, 79)\" style=\"width: 20px; height: 20px;background-color: rgb(47, 79, 79);\"></td><td title=\"Index: [5, 3]&#10;Color: (47, 79, 79)\" style=\"width: 20px; height: 20px;background-color: rgb(47, 79, 79);\"></td><td title=\"Index: [5, 4]&#10;Color: (255, 192, 203)\" style=\"width: 20px; height: 20px;background-color: rgb(255, 192, 203);\"></td><td title=\"Index: [5, 5]&#10;Color: (47, 79, 79)\" style=\"width: 20px; height: 20px;background-color: rgb(47, 79, 79);\"></td><td title=\"Index: [5, 6]&#10;Color: (47, 79, 79)\" style=\"width: 20px; height: 20px;background-color: rgb(47, 79, 79);\"></td><td title=\"Index: [5, 7]&#10;Color: (47, 79, 79)\" style=\"width: 20px; height: 20px;background-color: rgb(47, 79, 79);\"></td><td title=\"Index: [5, 8]&#10;Color: (47, 79, 79)\" style=\"width: 20px; height: 20px;background-color: rgb(47, 79, 79);\"></td><td title=\"Index: [5, 9]&#10;Color: (47, 79, 79)\" style=\"width: 20px; height: 20px;background-color: rgb(47, 79, 79);\"></td></tr><tr><td title=\"Index: [6, 0]&#10;Color: (0, 0, 255)\" style=\"width: 20px; height: 20px;background-color: rgb(0, 0, 255);\"></td><td title=\"Index: [6, 1]&#10;Color: (0, 0, 255)\" style=\"width: 20px; height: 20px;background-color: rgb(0, 0, 255);\"></td><td title=\"Index: [6, 2]&#10;Color: (0, 0, 255)\" style=\"width: 20px; height: 20px;background-color: rgb(0, 0, 255);\"></td><td title=\"Index: [6, 3]&#10;Color: (0, 0, 255)\" style=\"width: 20px; height: 20px;background-color: rgb(0, 0, 255);\"></td><td title=\"Index: [6, 4]&#10;Color: (0, 0, 255)\" style=\"width: 20px; height: 20px;background-color: rgb(0, 0, 255);\"></td><td title=\"Index: [6, 5]&#10;Color: (0, 0, 255)\" style=\"width: 20px; height: 20px;background-color: rgb(0, 0, 255);\"></td><td title=\"Index: [6, 6]&#10;Color: (0, 0, 255)\" style=\"width: 20px; height: 20px;background-color: rgb(0, 0, 255);\"></td><td title=\"Index: [6, 7]&#10;Color: (0, 0, 255)\" style=\"width: 20px; height: 20px;background-color: rgb(0, 0, 255);\"></td><td title=\"Index: [6, 8]&#10;Color: (0, 0, 255)\" style=\"width: 20px; height: 20px;background-color: rgb(0, 0, 255);\"></td><td title=\"Index: [6, 9]&#10;Color: (0, 0, 255)\" style=\"width: 20px; height: 20px;background-color: rgb(0, 0, 255);\"></td></tr><tr><td title=\"Index: [7, 0]&#10;Color: (47, 79, 79)\" style=\"width: 20px; height: 20px;background-color: rgb(47, 79, 79);\"></td><td title=\"Index: [7, 1]&#10;Color: (47, 79, 79)\" style=\"width: 20px; height: 20px;background-color: rgb(47, 79, 79);\"></td><td title=\"Index: [7, 2]&#10;Color: (47, 79, 79)\" style=\"width: 20px; height: 20px;background-color: rgb(47, 79, 79);\"></td><td title=\"Index: [7, 3]&#10;Color: (47, 79, 79)\" style=\"width: 20px; height: 20px;background-color: rgb(47, 79, 79);\"></td><td title=\"Index: [7, 4]&#10;Color: (255, 192, 203)\" style=\"width: 20px; height: 20px;background-color: rgb(255, 192, 203);\"></td><td title=\"Index: [7, 5]&#10;Color: (47, 79, 79)\" style=\"width: 20px; height: 20px;background-color: rgb(47, 79, 79);\"></td><td title=\"Index: [7, 6]&#10;Color: (47, 79, 79)\" style=\"width: 20px; height: 20px;background-color: rgb(47, 79, 79);\"></td><td title=\"Index: [7, 7]&#10;Color: (47, 79, 79)\" style=\"width: 20px; height: 20px;background-color: rgb(47, 79, 79);\"></td><td title=\"Index: [7, 8]&#10;Color: (47, 79, 79)\" style=\"width: 20px; height: 20px;background-color: rgb(47, 79, 79);\"></td><td title=\"Index: [7, 9]&#10;Color: (47, 79, 79)\" style=\"width: 20px; height: 20px;background-color: rgb(47, 79, 79);\"></td></tr><tr><td title=\"Index: [8, 0]&#10;Color: (47, 79, 79)\" style=\"width: 20px; height: 20px;background-color: rgb(47, 79, 79);\"></td><td title=\"Index: [8, 1]&#10;Color: (47, 79, 79)\" style=\"width: 20px; height: 20px;background-color: rgb(47, 79, 79);\"></td><td title=\"Index: [8, 2]&#10;Color: (47, 79, 79)\" style=\"width: 20px; height: 20px;background-color: rgb(47, 79, 79);\"></td><td title=\"Index: [8, 3]&#10;Color: (47, 79, 79)\" style=\"width: 20px; height: 20px;background-color: rgb(47, 79, 79);\"></td><td title=\"Index: [8, 4]&#10;Color: (255, 192, 203)\" style=\"width: 20px; height: 20px;background-color: rgb(255, 192, 203);\"></td><td title=\"Index: [8, 5]&#10;Color: (47, 79, 79)\" style=\"width: 20px; height: 20px;background-color: rgb(47, 79, 79);\"></td><td title=\"Index: [8, 6]&#10;Color: (47, 79, 79)\" style=\"width: 20px; height: 20px;background-color: rgb(47, 79, 79);\"></td><td title=\"Index: [8, 7]&#10;Color: (47, 79, 79)\" style=\"width: 20px; height: 20px;background-color: rgb(47, 79, 79);\"></td><td title=\"Index: [8, 8]&#10;Color: (47, 79, 79)\" style=\"width: 20px; height: 20px;background-color: rgb(47, 79, 79);\"></td><td title=\"Index: [8, 9]&#10;Color: (47, 79, 79)\" style=\"width: 20px; height: 20px;background-color: rgb(47, 79, 79);\"></td></tr><tr><td title=\"Index: [9, 0]&#10;Color: (47, 79, 79)\" style=\"width: 20px; height: 20px;background-color: rgb(47, 79, 79);\"></td><td title=\"Index: [9, 1]&#10;Color: (47, 79, 79)\" style=\"width: 20px; height: 20px;background-color: rgb(47, 79, 79);\"></td><td title=\"Index: [9, 2]&#10;Color: (47, 79, 79)\" style=\"width: 20px; height: 20px;background-color: rgb(47, 79, 79);\"></td><td title=\"Index: [9, 3]&#10;Color: (47, 79, 79)\" style=\"width: 20px; height: 20px;background-color: rgb(47, 79, 79);\"></td><td title=\"Index: [9, 4]&#10;Color: (255, 192, 203)\" style=\"width: 20px; height: 20px;background-color: rgb(255, 192, 203);\"></td><td title=\"Index: [9, 5]&#10;Color: (47, 79, 79)\" style=\"width: 20px; height: 20px;background-color: rgb(47, 79, 79);\"></td><td title=\"Index: [9, 6]&#10;Color: (47, 79, 79)\" style=\"width: 20px; height: 20px;background-color: rgb(47, 79, 79);\"></td><td title=\"Index: [9, 7]&#10;Color: (47, 79, 79)\" style=\"width: 20px; height: 20px;background-color: rgb(47, 79, 79);\"></td><td title=\"Index: [9, 8]&#10;Color: (47, 79, 79)\" style=\"width: 20px; height: 20px;background-color: rgb(47, 79, 79);\"></td><td title=\"Index: [9, 9]&#10;Color: (47, 79, 79)\" style=\"width: 20px; height: 20px;background-color: rgb(47, 79, 79);\"></td></tr></tbody></table>"
       ],
       "output_type": "pyout",
       "prompt_number": 31,
       "text": [
        "<ipythonblocks.ipythonblocks.BlockGrid at 0x8d8f98c>"
       ]
      }
     ],
     "prompt_number": 31
    },
    {
     "cell_type": "code",
     "collapsed": false,
     "input": [
      "## Play with this and create your own functions that change a grid\n",
      "\n",
      "#...."
     ],
     "language": "python",
     "metadata": {},
     "outputs": []
    },
    {
     "cell_type": "code",
     "collapsed": false,
     "input": [
      "## We saw before that colors is a `dictionary` that maps color names to rgb tuples.\n",
      "## All dictionaries have `keys` that map to `values`.\n",
      "\n",
      "## Let's look at some special functions that you can use on dictionaries:\n",
      "colors.keys()"
     ],
     "language": "python",
     "metadata": {},
     "outputs": [
      {
       "output_type": "pyout",
       "prompt_number": 22,
       "text": [
        "['Blue',\n",
        " 'Pink',\n",
        " 'Honeydew',\n",
        " 'Purple',\n",
        " 'SaddleBrown',\n",
        " 'IndianRed',\n",
        " 'Fuchsia',\n",
        " 'Snow',\n",
        " 'LawnGreen',\n",
        " 'SteelBlue',\n",
        " 'MediumSlateBlue',\n",
        " 'Black',\n",
        " 'AliceBlue',\n",
        " 'Salmon',\n",
        " 'Crimson',\n",
        " 'White',\n",
        " 'NavajoWhite',\n",
        " 'Cornsilk',\n",
        " 'Bisque',\n",
        " 'PaleGreen',\n",
        " 'Brown',\n",
        " 'DarkTurquoise',\n",
        " 'DarkGreen',\n",
        " 'MediumVioletRed',\n",
        " 'DarkViolet',\n",
        " 'DarkGray',\n",
        " 'MediumOrchid',\n",
        " 'Chocolate',\n",
        " 'PapayaWhip',\n",
        " 'Seashell',\n",
        " 'Olive',\n",
        " 'LightSlateGray',\n",
        " 'DarkMagenta',\n",
        " 'PeachPuff',\n",
        " 'Tomato',\n",
        " 'Violet',\n",
        " 'Goldenrod',\n",
        " 'MediumSpringGreen',\n",
        " 'DarkGoldenrod',\n",
        " 'Aqua',\n",
        " 'HotPink',\n",
        " 'ForestGreen',\n",
        " 'LemonChiffon',\n",
        " 'MintCream',\n",
        " 'Silver',\n",
        " 'LightGray',\n",
        " 'Indigo',\n",
        " 'CornflowerBlue',\n",
        " 'CadetBlue',\n",
        " 'LightYellow',\n",
        " 'DarkBlue',\n",
        " 'LimeGreen',\n",
        " 'DeepSkyBlue',\n",
        " 'DarkKhaki',\n",
        " 'RoyalBlue',\n",
        " 'WhiteSmoke',\n",
        " 'Yellow',\n",
        " 'Gainsboro',\n",
        " 'Sienna',\n",
        " 'DarkOrange',\n",
        " 'SandyBrown',\n",
        " 'DeepPink',\n",
        " 'PowderBlue',\n",
        " 'Magenta',\n",
        " 'LavenderBlush',\n",
        " 'Lime',\n",
        " 'DarkCyan',\n",
        " 'GreenYellow',\n",
        " 'DarkOrchid',\n",
        " 'LightSalmon',\n",
        " 'SlateGray',\n",
        " 'OliveDrab',\n",
        " 'DarkRed',\n",
        " 'LightSkyBlue',\n",
        " 'SlateBlue',\n",
        " 'Orange',\n",
        " 'Chartreuse',\n",
        " 'PaleVioletRed',\n",
        " 'Maroon',\n",
        " 'Peru',\n",
        " 'Aquamarine',\n",
        " 'LightCoral',\n",
        " 'Thistle',\n",
        " 'Red',\n",
        " 'DarkSlateGray',\n",
        " 'Khaki',\n",
        " 'Wheat',\n",
        " 'LightPink',\n",
        " 'BurlyWood',\n",
        " 'LightGoldenrodYellow',\n",
        " 'LightSeaGreen',\n",
        " 'MediumBlue',\n",
        " 'DarkSalmon',\n",
        " 'RosyBrown',\n",
        " 'BlueViolet',\n",
        " 'Cyan',\n",
        " 'MediumPurple',\n",
        " 'MidnightBlue',\n",
        " 'FireBrick',\n",
        " 'PaleTurquoise',\n",
        " 'PaleGoldenrod',\n",
        " 'Gray',\n",
        " 'DodgerBlue',\n",
        " 'MediumSeaGreen',\n",
        " 'LightBlue',\n",
        " 'Coral',\n",
        " 'Turquoise',\n",
        " 'Ivory',\n",
        " 'DarkSlateBlue',\n",
        " 'LightGreen',\n",
        " 'Linen',\n",
        " 'Green',\n",
        " 'Beige',\n",
        " 'Teal',\n",
        " 'Azure',\n",
        " 'Moccasin',\n",
        " 'OrangeRed',\n",
        " 'LightSteelBlue',\n",
        " 'Tan',\n",
        " 'AntiqueWhite',\n",
        " 'SkyBlue',\n",
        " 'GhostWhite',\n",
        " 'MediumTurquoise',\n",
        " 'FloralWhite',\n",
        " 'DimGray',\n",
        " 'SeaGreen',\n",
        " 'Lavender',\n",
        " 'BlanchedAlmond',\n",
        " 'DarkOliveGreen',\n",
        " 'LightCyan',\n",
        " 'DarkSeaGreen',\n",
        " 'MediumAquamarine',\n",
        " 'Plum',\n",
        " 'Gold',\n",
        " 'SpringGreen',\n",
        " 'Navy',\n",
        " 'MistyRose',\n",
        " 'Orchid',\n",
        " 'YellowGreen',\n",
        " 'OldLace']"
       ]
      }
     ],
     "prompt_number": 22
    },
    {
     "cell_type": "code",
     "collapsed": false,
     "input": [
      "len(colors.keys())"
     ],
     "language": "python",
     "metadata": {},
     "outputs": [
      {
       "output_type": "pyout",
       "prompt_number": 11,
       "text": [
        "140"
       ]
      }
     ],
     "prompt_number": 11
    },
    {
     "cell_type": "code",
     "collapsed": false,
     "input": [
      "len(colors.values())"
     ],
     "language": "python",
     "metadata": {},
     "outputs": [
      {
       "output_type": "pyout",
       "prompt_number": 12,
       "text": [
        "140"
       ]
      }
     ],
     "prompt_number": 12
    },
    {
     "cell_type": "code",
     "collapsed": false,
     "input": [
      "len(colors)"
     ],
     "language": "python",
     "metadata": {},
     "outputs": [
      {
       "output_type": "pyout",
       "prompt_number": 13,
       "text": [
        "140"
       ]
      }
     ],
     "prompt_number": 13
    },
    {
     "cell_type": "code",
     "collapsed": false,
     "input": [
      "## colors[key] is just a shorthand syntax for calling the colors.get(key) function\n",
      "colors.get('Honeydew') == colors['Honeydew']"
     ],
     "language": "python",
     "metadata": {},
     "outputs": []
    },
    {
     "cell_type": "code",
     "collapsed": false,
     "input": [
      "## What happens if you type colors. (a trailing period) and then hit the `tab` key right after the period?\n",
      "\n",
      "#...type it out and try...\n",
      "\n",
      "## That was a full listing of all the special dictionary functions."
     ],
     "language": "python",
     "metadata": {},
     "outputs": []
    },
    {
     "cell_type": "code",
     "collapsed": false,
     "input": [
      "## We haven't seen how to create a new dictionary\n",
      "our_dict = dict(one=1, two=2, three=3, vancouver='sunny')\n",
      "our_dict.items()"
     ],
     "language": "python",
     "metadata": {},
     "outputs": [
      {
       "output_type": "pyout",
       "prompt_number": 14,
       "text": [
        "[('vancouver', 'sunny'), ('three', 3), ('two', 2), ('one', 1)]"
       ]
      }
     ],
     "prompt_number": 14
    },
    {
     "cell_type": "code",
     "collapsed": false,
     "input": [
      "'Honeydew' in colors"
     ],
     "language": "python",
     "metadata": {},
     "outputs": []
    },
    {
     "cell_type": "code",
     "collapsed": false,
     "input": [
      "'PurpleRain' in colors"
     ],
     "language": "python",
     "metadata": {},
     "outputs": []
    },
    {
     "cell_type": "code",
     "collapsed": false,
     "input": [
      "'raining' in ['sunny', 'windy']"
     ],
     "language": "python",
     "metadata": {},
     "outputs": []
    },
    {
     "cell_type": "code",
     "collapsed": false,
     "input": [
      "'raining' "
     ],
     "language": "python",
     "metadata": {},
     "outputs": []
    },
    {
     "cell_type": "code",
     "collapsed": false,
     "input": [
      "## Ask Python for the `len`gth of `our_dict`\n",
      "#..."
     ],
     "language": "python",
     "metadata": {},
     "outputs": []
    },
    {
     "cell_type": "code",
     "collapsed": false,
     "input": [
      "get_color = colors.get\n",
      "print get_color('Honeydew'), colors.get('Honeydew'), get_color == colors.get\n"
     ],
     "language": "python",
     "metadata": {},
     "outputs": [
      {
       "output_type": "stream",
       "stream": "stdout",
       "text": [
        "(240, 255, 240) (240, 255, 240) True\n",
        "True\n"
       ]
      }
     ],
     "prompt_number": 6
    },
    {
     "cell_type": "code",
     "collapsed": false,
     "input": [
      "key = 'Honeydew'\n",
      "print get_color(key) == get_color('Honeydew') == colors[key]"
     ],
     "language": "python",
     "metadata": {},
     "outputs": [
      {
       "output_type": "stream",
       "stream": "stdout",
       "text": [
        "True\n"
       ]
      }
     ],
     "prompt_number": 7
    }
   ],
   "metadata": {}
  }
 ]
}