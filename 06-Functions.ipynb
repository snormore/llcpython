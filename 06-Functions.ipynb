{
 "metadata": {
  "name": "06-Functions"
 },
 "nbformat": 3,
 "nbformat_minor": 0,
 "worksheets": [
  {
   "cells": [
    {
     "cell_type": "code",
     "collapsed": false,
     "input": [
      "## Time for something boringly easy\n",
      "def one(): return 1"
     ],
     "language": "python",
     "metadata": {},
     "outputs": []
    },
    {
     "cell_type": "code",
     "collapsed": false,
     "input": [
      "## What is `one`? Ask IPython for some help.\n",
      "#...?"
     ],
     "language": "python",
     "metadata": {},
     "outputs": []
    },
    {
     "cell_type": "code",
     "collapsed": false,
     "input": [
      "## What does it do when you `call` it?\n",
      "one()"
     ],
     "language": "python",
     "metadata": {},
     "outputs": []
    },
    {
     "cell_type": "code",
     "collapsed": false,
     "input": [
      "## this is the same\n",
      "def one():\n",
      "    return 1"
     ],
     "language": "python",
     "metadata": {},
     "outputs": []
    },
    {
     "cell_type": "heading",
     "level": 1,
     "metadata": {},
     "source": [
      "Def(ine) Something Less Boring ..."
     ]
    },
    {
     "cell_type": "code",
     "collapsed": false,
     "input": [
      "from ipythonblocks import colors, BlockGrid, show_color\n"
     ],
     "language": "python",
     "metadata": {},
     "outputs": []
    },
    {
     "cell_type": "code",
     "collapsed": false,
     "input": [
      "def a_bit_less_boring():\n",
      "    return BlockGrid(10, 10, fill=colors['Gray'])\n",
      "\n",
      "a_bit_less_boring()\n",
      "## doesn't this look like a less powerful version of BlockGrid?"
     ],
     "language": "python",
     "metadata": {},
     "outputs": []
    },
    {
     "cell_type": "heading",
     "level": 1,
     "metadata": {},
     "source": [
      "Something More Powerful, Two Functions"
     ]
    },
    {
     "cell_type": "code",
     "collapsed": false,
     "input": [
      "## recreate the same grid from FeelingLoopy\n",
      "\n",
      "def make_grid():\n",
      "    newgrid = BlockGrid(10, 10, fill=colors['DarkSlateGray'])\n",
      "    add_stripe(newgrid)\n",
      "    return newgrid\n",
      "\n",
      "def add_stripe(grid):\n",
      "    for block in grid:\n",
      "        if block.row == 2 or block.col == 4:\n",
      "            block.rgb = colors['Pink']\n",
      "\n",
      "## now let's call our new function and show the grid\n",
      "make_grid()"
     ],
     "language": "python",
     "metadata": {},
     "outputs": []
    },
    {
     "cell_type": "code",
     "collapsed": false,
     "input": [
      "## Let's make it more flexible\n",
      "\n",
      "def add_stripe_v2(grid, stripe_color):\n",
      "    for block in grid:\n",
      "        if block.row == 2 or block.col == 4:\n",
      "            block.rgb = colors[stripe_color]\n",
      "        \n",
      "def make_grid_v2(width, height, fill_color, stripe_color):\n",
      "    newgrid = BlockGrid(width, height, fill=colors[fill_color])\n",
      "    add_stripe_v2(newgrid, stripe_color)\n",
      "    return newgrid\n",
      "\n",
      "make_grid_v2(12, 6, 'DarkBlue', 'Pink')\n",
      "\n",
      "## 1) Now, play with the colors and dimentions a bit ...\n",
      "\n",
      "## 2) Do you think you can make the stripe coordinates row 2, col 4 parameters of the functions?"
     ],
     "language": "python",
     "metadata": {},
     "outputs": []
    },
    {
     "cell_type": "heading",
     "level": 1,
     "metadata": {},
     "source": [
      "Time For 3"
     ]
    },
    {
     "cell_type": "code",
     "collapsed": false,
     "input": [
      "## Run this \n",
      "grid = make_grid()\n",
      "\n",
      "def make_blue(block):\n",
      "    block.rgb = colors['Blue']\n",
      "\n",
      "## can you convert the next 2 lines into a function that does the same thing?\n",
      "for block in grid[6]: # row 7\n",
      "    make_blue(block)\n",
      "## Call it on `grid` before displaying it\n",
      "    \n",
      "grid"
     ],
     "language": "python",
     "metadata": {},
     "outputs": []
    },
    {
     "cell_type": "code",
     "collapsed": false,
     "input": [
      "## Play with this and create your own functions that change a grid\n",
      "\n",
      "#...."
     ],
     "language": "python",
     "metadata": {},
     "outputs": []
    }
   ],
   "metadata": {}
  }
 ]
}