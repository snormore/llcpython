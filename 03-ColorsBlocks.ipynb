{
 "metadata": {
  "name": "01-ColorsBlocks"
 },
 "nbformat": 3,
 "nbformat_minor": 0,
 "worksheets": [
  {
   "cells": [
    {
     "cell_type": "heading",
     "level": 2,
     "metadata": {},
     "source": [
      "Colors"
     ]
    },
    {
     "cell_type": "markdown",
     "metadata": {},
     "source": [
      "**Exercise:** Use the `show_color` function to make approximately the following colors:\n",
      "\n",
      "<ul>\n",
      "    <li style=\"background: rgb(0, 0, 150);\"></li>\n",
      "    <li style=\"background: rgb(250, 100, 50);\"></li>\n",
      "    <li style=\"background: rgb(200, 0, 150);\"></li>\n",
      "</ul>"
     ]
    },
    {
     "cell_type": "code",
     "collapsed": false,
     "input": [
      "from ipythonblocks import show_color\n"
     ],
     "language": "python",
     "metadata": {},
     "outputs": []
    },
    {
     "cell_type": "markdown",
     "metadata": {},
     "source": [
      "Choose your favourite color with the `embed_colorpicker` tool, then display it with `show_color`."
     ]
    },
    {
     "cell_type": "code",
     "collapsed": false,
     "input": [
      "from ipythonblocks import embed_colorpicker\n"
     ],
     "language": "python",
     "metadata": {},
     "outputs": []
    },
    {
     "cell_type": "heading",
     "level": 2,
     "metadata": {},
     "source": [
      "BlockGrid"
     ]
    },
    {
     "cell_type": "markdown",
     "metadata": {},
     "source": [
      "Read the following code. What do you think it does?"
     ]
    },
    {
     "cell_type": "code",
     "collapsed": false,
     "input": [
      "from ipythonblocks import BlockGrid\n",
      "grid = BlockGrid(10, 10, fill=(0, 150, 200))\n",
      "grid"
     ],
     "language": "python",
     "metadata": {},
     "outputs": []
    },
    {
     "cell_type": "markdown",
     "metadata": {},
     "source": [
      "Now run the code (Ctrl+Enter) and observe the output. \n",
      "\n",
      "**Questions**\n",
      "<ul>\n",
      "    <li>What do you think each of the **arguments** in BlockGrid do?</li>\n",
      "    <li>What does `grid =` mean?</li>\n",
      "</ul>"
     ]
    },
    {
     "cell_type": "markdown",
     "metadata": {},
     "source": [
      "**Exercise:** Make the following changes to the BlockGrid:\n",
      "\n",
      "<ul>\n",
      "    <li>Change the size of the grid to 15 x 15.</li>\n",
      "    <li>Change the size of the grid to 8 x 16.</li>\n",
      "    <li>Change the color of the grid to a light green.</li>\n",
      "    <li>Change the name of the variable that BlockGrid is assigned to.</li>\n",
      "</ul>"
     ]
    }
   ],
   "metadata": {}
  }
 ]
}
