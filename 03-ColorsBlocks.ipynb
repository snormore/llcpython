{
 "metadata": {
  "name": "03-ColorsBlocks"
 },
 "nbformat": 3,
 "nbformat_minor": 0,
 "worksheets": [
  {
   "cells": [
    {
     "cell_type": "heading",
     "level": 2,
     "metadata": {},
     "source": [
      "Fun with colors and blocks"
     ]
    },
    {
     "cell_type": "markdown",
     "metadata": {},
     "source": [
      "We're going to use a Python learning library called `ipythonblocks` to explore the basics of Python.  First we need to `import` a few things from it."
     ]
    },
    {
     "cell_type": "code",
     "collapsed": false,
     "input": [
      "## we can import one thing at a time like this\n",
      "#### from ipythonblocks import thing1\n",
      "## or we can import a comma separate list of things we want\n",
      "#### from ipythonblocks import thing1, thing2, thing3\n",
      "## Your turn: use this syntax to import show_color, embed_colorpicker, BlockGrid\n",
      "\n",
      "#..."
     ],
     "language": "python",
     "metadata": {},
     "outputs": []
    },
    {
     "cell_type": "code",
     "collapsed": false,
     "input": [
      "## Now, let's see what the show_color function does. It was named by an American, not us Canadians!\n",
      "## Add a new line after me and type the function's name.  Remember you can `tab complete` to save time.\n",
      "## Immediately after the name type a single open paren ( .  After a short delay, IPython will show you some useful help info.\n",
      "## You'll see that it requires three parameters (aka arguments): red, green, blue. These are numbers between 0 (black) and 255 (full coloUr).\n",
      "## Full black is 0,0,0. Full white is 255,255,255.  In this system, each color is an RGB triple.\n",
      "## The parameters are separated by commas.  They end with close paren ) .  See if you can get it to show a color.\n",
      "\n",
      "#..do it here.."
     ],
     "language": "python",
     "metadata": {},
     "outputs": []
    },
    {
     "cell_type": "markdown",
     "metadata": {},
     "source": [
      "**Exercise:** Use the `show_color` function to make approximately the following colors:\n",
      "\n",
      "<ul>\n",
      "    <li style=\"background: rgb(0, 0, 150);\"></li>\n",
      "    <li style=\"background: rgb(250, 100, 50);\"></li>\n",
      "    <li style=\"background: rgb(200, 0, 150);\"></li>\n",
      "</ul>"
     ]
    },
    {
     "cell_type": "markdown",
     "metadata": {},
     "source": [
      "Find the colors with the `embed_colorpicker` function then display each of them with `show_color`."
     ]
    },
    {
     "cell_type": "code",
     "collapsed": false,
     "input": [
      "## We've already imported the embed_colorpicker function to help with this task.\n",
      "## It doesn't have any parameters, but you still need to put the () parens after the function name to call it.\n",
      "## Try it.\n",
      "\n",
      "#...here...\n",
      "\n",
      "## Use the horizontal scrollbar to see the useful, but obscured info on the right side of the picker.\n",
      "## We care about the values R, G, and B.\n",
      "\n"
     ],
     "language": "python",
     "metadata": {},
     "outputs": []
    },
    {
     "cell_type": "heading",
     "level": 2,
     "metadata": {},
     "source": [
      "BlockGrid"
     ]
    },
    {
     "cell_type": "markdown",
     "metadata": {},
     "source": [
      "Read the following code. What do you think it does?"
     ]
    },
    {
     "cell_type": "code",
     "collapsed": false,
     "input": [
      "from ipythonblocks import BlockGrid\n",
      "grid = BlockGrid(10, 10, fill=(0, 150, 200))\n",
      "gri"
     ],
     "language": "python",
     "metadata": {},
     "outputs": []
    },
    {
     "cell_type": "markdown",
     "metadata": {},
     "source": [
      "Now run the code (Ctrl+Enter) and observe the output. \n",
      "\n",
      "Oops, there was typo in that. Fix it and run it again.\n",
      "\n",
      "**Questions**\n",
      "<ul>\n",
      "    <li>What do you think each of BlockGrid's arguments/parameters mean?</li>\n",
      "    <li>What does <b>grid =</b> mean?</li>\n",
      "</ul>\n",
      "\n",
      "**Getting Help**\n",
      "\n",
      "We've already seen that IPython provides pop-up help information for function calls after you type the open paren ( . There are some other useful tools for getting help.\n",
      "\n"
     ]
    },
    {
     "cell_type": "code",
     "collapsed": false,
     "input": [
      "## Type the name BlockGrid immediately followed by a question mark and run the cell.\n",
      "\n",
      "#...do it here...\n",
      "\n",
      "## Look at the `fill` parameter in the help info. What do you think `tuple` means?\n",
      "## Hint, (R,G,B) and (20, 100, 55) are examples of tuples.\n",
      "\n",
      "## You can hide or resize the help pane using the bar running across its top edge.\n",
      "## Hover your mouse over it to see your options.\n",
      "\n",
      "## If you want to see even more detail use two question marks like `function_name??`.\n",
      "## This version will include the actual source code that implements the function.\n",
      "## You won't understand most of that code yet, but by the end of today you'll understand some.\n",
      "\n",
      "#...try that...\n",
      "\n",
      "## Another version is help(function). Most of the time the single question mark will suffice.\n",
      "## Try this:\n",
      "#help(BlockGrid)  "
     ],
     "language": "python",
     "metadata": {},
     "outputs": []
    },
    {
     "cell_type": "markdown",
     "metadata": {},
     "source": [
      "**Exercise:** Make the following changes to the BlockGrid:\n",
      "\n",
      "<ul>\n",
      "    <li>Change the size of the grid to 15 x 15.</li>\n",
      "    <li>Change the size of the grid to 8 x 16.</li>\n",
      "    <li>Change the fill color of the grid to a light green.</li>\n",
      "    <li>Change the name of the variable that BlockGrid is assigned to.</li>\n",
      "</ul>\n",
      "\n",
      "You can use the toolbar icon one to the left of `run cell` to add a new cell if you need one."
     ]
    },
    {
     "cell_type": "heading",
     "level": 2,
     "metadata": {},
     "source": [
      "Reusing Colors and Other Variables"
     ]
    },
    {
     "cell_type": "code",
     "collapsed": false,
     "input": [
      "a_color = (100, 200, 250)\n",
      "## Make a new 20 by 20 BlockGrid using `a_color` as the fill color. Remember fill=... from above.\n",
      "\n",
      "#...here please...\n",
      "\n",
      "## Now try creating and using `variables` for the width and height as well \n",
      "## instead of typing them inside the call to BlockGrid(...).\n",
      "\n",
      "## See if you can create another color variable using separate variables defining each of its R, G and B values."
     ],
     "language": "python",
     "metadata": {},
     "outputs": []
    }
   ],
   "metadata": {}
  }
 ]
}