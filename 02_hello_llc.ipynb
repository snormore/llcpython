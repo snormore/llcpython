{
 "metadata": {
  "name": "Hello LLC"
 },
 "nbformat": 3,
 "nbformat_minor": 0,
 "worksheets": [
  {
   "cells": [
    {
     "cell_type": "code",
     "collapsed": false,
     "input": "\"I am a string. I can contain anything between my start and end quotes. Edit me, please!\"",
     "language": "python",
     "metadata": {},
     "outputs": []
    },
    {
     "cell_type": "code",
     "collapsed": false,
     "input": "'I am also a string. Python allows you to choose either single or double quotes. Change me to double, please!'",
     "language": "python",
     "metadata": {},
     "outputs": []
    },
    {
     "cell_type": "code",
     "collapsed": false,
     "input": "\"\"\"If you want to make a string with multiple lines, \nuse three quotes (single or double) \non either end.\"\"\"",
     "language": "python",
     "metadata": {},
     "outputs": []
    },
    {
     "cell_type": "code",
     "collapsed": false,
     "input": "## This is identical to the string above.\n'''If you want to make a string with multiple lines, \nuse three quotes (single or double) \non either end.'''",
     "language": "python",
     "metadata": {},
     "outputs": []
    },
    {
     "cell_type": "code",
     "collapsed": false,
     "input": "'I\\'m a string with an escaped single quote. ' + \"I'm a string with double \\\"quotes\\\" outside. Switch our quotes around! Together we form 1 string.\"",
     "language": "python",
     "metadata": {},
     "outputs": []
    },
    {
     "cell_type": "code",
     "collapsed": false,
     "input": "your_greeting_to_the_class = \"\"\"\nPlease introduce yourself to the class. Have you programmed before?\n\n-- Your Name\n\"\"\"",
     "language": "python",
     "metadata": {},
     "outputs": []
    },
    {
     "cell_type": "code",
     "collapsed": false,
     "input": "## Uncomment / run the code below.\n## It imports a `function` from a `library` of functions. \n## Then, on a new line, use the function like this:\n#### hello_llc(your_greeting_to_the_class) # type it out yourself\n## Make sure you don't have any extra spaces at the beginning of the line.\n## Use 'tab completion': hit the `tab` key after typing hello_\n## Notice the help info that appears when you type the first parenthesis!\n## Tab complete the variable your_g... as well.\n\n#from llc_python import hello_llc",
     "language": "python",
     "metadata": {},
     "outputs": []
    },
    {
     "cell_type": "code",
     "collapsed": false,
     "input": "",
     "language": "python",
     "metadata": {},
     "outputs": []
    }
   ],
   "metadata": {}
  }
 ]
}