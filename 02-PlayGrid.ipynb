{
 "metadata": {
  "name": "02-PlayGrid"
 },
 "nbformat": 3,
 "nbformat_minor": 0,
 "worksheets": [
  {
   "cells": [
    {
     "cell_type": "code",
     "collapsed": false,
     "input": [
      "from ipythonblocks import BlockGrid\n",
      "grid = BlockGrid(10, 10, fill=(0, 150, 200))\n",
      "grid"
     ],
     "language": "python",
     "metadata": {},
     "outputs": []
    },
    {
     "cell_type": "markdown",
     "metadata": {},
     "source": [
      "**Exercise** Let's change some more things about the `grid` and see what happens.\n",
      "<ul>\n",
      "    <li>What happens when you change the argument name `fill` to `rgb`?</li>\n",
      "    <li>What happens when you change the order of the arguments in BlockGrid?</li>\n",
      "</ul>"
     ]
    },
    {
     "cell_type": "markdown",
     "metadata": {},
     "source": [
      "The BlockGrid object has several attributes that allow you to access and alter it in different ways. The grid itself is made up of rows and columns of blocks. You can refer to a particular row or column individually:"
     ]
    },
    {
     "cell_type": "code",
     "collapsed": true,
     "input": [
      "row = grid[5]\n",
      "row"
     ],
     "language": "python",
     "metadata": {},
     "outputs": []
    },
    {
     "cell_type": "markdown",
     "metadata": {},
     "source": [
      "You can also refer to individual blocks. Individual blocks have different attributes for red, green, blue. "
     ]
    },
    {
     "cell_type": "code",
     "collapsed": false,
     "input": [
      "block1 = grid[0,0]\n",
      "block1.blue = 0\n",
      "block1"
     ],
     "language": "python",
     "metadata": {},
     "outputs": []
    },
    {
     "cell_type": "markdown",
     "metadata": {},
     "source": [
      "You can also change a block's color using its rgb tuple attribute."
     ]
    },
    {
     "cell_type": "code",
     "collapsed": false,
     "input": [
      "block2 = grid[5,5]\n",
      "block2.rgb = (255, 200, 0)\n",
      "block2"
     ],
     "language": "python",
     "metadata": {},
     "outputs": []
    },
    {
     "cell_type": "markdown",
     "metadata": {},
     "source": [
      "**Question**\n",
      "<ul>\n",
      "    <li>Where do block1 and block2 exist on the BlockGrid? How can you be sure? (Hint: `grid` is still available!)</li>\n",
      "    <li>What is the location index for all the corners of the BlockGrid?</li>\n",
      "</ul>\n",
      "**Exercises**\n",
      "<ul>\n",
      "    <li>Try choosing individual blocks and changing their colour using the red, green, and blue attributes, as well as the rgb attribute.</li>\n",
      "    <li>Can you draw a happy face? :)</li>\n",
      "</ul>"
     ]
    }
   ],
   "metadata": {}
  }
 ]
}
