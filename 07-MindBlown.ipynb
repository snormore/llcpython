{
 "metadata": {
  "name": "07-MindBlown"
 },
 "nbformat": 3,
 "nbformat_minor": 0,
 "worksheets": [
  {
   "cells": [
    {
     "cell_type": "code",
     "collapsed": false,
     "input": "type(True)",
     "language": "python",
     "metadata": {},
     "outputs": []
    },
    {
     "cell_type": "code",
     "collapsed": false,
     "input": "type(False)",
     "language": "python",
     "metadata": {},
     "outputs": []
    },
    {
     "cell_type": "code",
     "collapsed": false,
     "input": "True and True",
     "language": "python",
     "metadata": {},
     "outputs": []
    },
    {
     "cell_type": "code",
     "collapsed": false,
     "input": "False and False",
     "language": "python",
     "metadata": {},
     "outputs": []
    },
    {
     "cell_type": "code",
     "collapsed": false,
     "input": "False and True",
     "language": "python",
     "metadata": {},
     "outputs": []
    },
    {
     "cell_type": "code",
     "collapsed": false,
     "input": "True or False",
     "language": "python",
     "metadata": {},
     "outputs": []
    },
    {
     "cell_type": "code",
     "collapsed": false,
     "input": "a_boolean_value = True and (False or True) and (1 == 1)\na_boolean_value",
     "language": "python",
     "metadata": {},
     "outputs": []
    },
    {
     "cell_type": "markdown",
     "metadata": {},
     "source": "You can thank <a href=\"http://en.wikipedia.org/wiki/George_Boole\" target=\"new\">George Bool(e)</a> for the funny name."
    },
    {
     "cell_type": "code",
     "collapsed": false,
     "input": "1 == 1",
     "language": "python",
     "metadata": {},
     "outputs": []
    },
    {
     "cell_type": "code",
     "collapsed": false,
     "input": "2 + 2 == 4",
     "language": "python",
     "metadata": {},
     "outputs": []
    },
    {
     "cell_type": "code",
     "collapsed": false,
     "input": "True == False",
     "language": "python",
     "metadata": {},
     "outputs": []
    },
    {
     "cell_type": "heading",
     "level": 1,
     "metadata": {},
     "source": "Testing for membership in `sequences` and other `collections`"
    },
    {
     "cell_type": "code",
     "collapsed": false,
     "input": "1 in [3, 4, 5, 6]",
     "language": "python",
     "metadata": {},
     "outputs": []
    },
    {
     "cell_type": "code",
     "collapsed": false,
     "input": "1 in (3, 4)",
     "language": "python",
     "metadata": {},
     "outputs": []
    },
    {
     "cell_type": "code",
     "collapsed": false,
     "input": "1 in [1, 2, 3, 4]",
     "language": "python",
     "metadata": {},
     "outputs": []
    },
    {
     "cell_type": "code",
     "collapsed": false,
     "input": "2 in (90, 2, 100)",
     "language": "python",
     "metadata": {},
     "outputs": []
    },
    {
     "cell_type": "code",
     "collapsed": false,
     "input": "'a' in ('a', 'b', 'c')",
     "language": "python",
     "metadata": {},
     "outputs": []
    },
    {
     "cell_type": "code",
     "collapsed": false,
     "input": "'a' in 'abcdefg'",
     "language": "python",
     "metadata": {},
     "outputs": []
    },
    {
     "cell_type": "code",
     "collapsed": false,
     "input": "a_string = 'a sequence of characters'\nprint a_string == 'a sequence of characters'",
     "language": "python",
     "metadata": {},
     "outputs": []
    },
    {
     "cell_type": "code",
     "collapsed": false,
     "input": "sometimes_sunny = ('vancouver', 'seattle', 'portland')\nprint \"Am I identical to myself?\", sometimes_sunny == sometimes_sunny\nprint \"Is ...?\", 'vancouver' in sometimes_sunny",
     "language": "python",
     "metadata": {},
     "outputs": []
    },
    {
     "cell_type": "code",
     "collapsed": false,
     "input": "cities = set(['vancouver', 'toronto', 'smithers', 'vancouver', 'smithers'])\nprint \"Are the duplicates shown?\", cities, 'length:', len(cities)\nprint 'vancouver' in cities\nprint 'Is BC a city?', 'BC' in cities\n",
     "language": "python",
     "metadata": {},
     "outputs": []
    },
    {
     "cell_type": "code",
     "collapsed": false,
     "input": "from ipythonblocks import BlockGrid, colors\ngrid = BlockGrid(10, 10, fill=colors['Yellow'])\ngrid[3] = colors['Brown']\n\nrow1 = grid[3]\nrow1\n\nyour_block = grid[3,4]\nyour_block.rgb = colors['Blue']\n",
     "language": "python",
     "metadata": {},
     "outputs": []
    },
    {
     "cell_type": "code",
     "collapsed": false,
     "input": "## Display the grid\n#...\n",
     "language": "python",
     "metadata": {},
     "outputs": []
    },
    {
     "cell_type": "code",
     "collapsed": false,
     "input": "## Ask Python if your_block is in row1?\n#...\n",
     "language": "python",
     "metadata": {},
     "outputs": []
    },
    {
     "cell_type": "heading",
     "level": 3,
     "metadata": {},
     "source": "These are all different, but yet they behave the same for the `in` operation. How???"
    },
    {
     "cell_type": "markdown",
     "metadata": {},
     "source": "They all support a common `abstract` interface, which Python uses to test if something is `in` them."
    },
    {
     "cell_type": "markdown",
     "metadata": {},
     "source": "This is an extremely powerful idea that Python makes great use of. \nWhen Python checks the len(gth) of something it is also using an abstract interface. \nIt uses another one for getting things out of tuples, lists, grids, and dictionaries like `colors`.\n\nYou can thank *Barbara Liskov* for this concept:\n\n<iframe width=\"1200\" height=\"900\" src=\"http://en.wikipedia.org/wiki/Barbara_Liskov\"></iframe> \n    "
    },
    {
     "cell_type": "heading",
     "level": 1,
     "metadata": {},
     "source": "Now let's finish with some slightly harder concepts"
    },
    {
     "cell_type": "code",
     "collapsed": false,
     "input": "## import our friends from ipythonblocks again: colors, show_color\n#...",
     "language": "python",
     "metadata": {},
     "outputs": []
    },
    {
     "cell_type": "code",
     "collapsed": false,
     "input": "type(colors)",
     "language": "python",
     "metadata": {},
     "outputs": []
    },
    {
     "cell_type": "code",
     "collapsed": false,
     "input": "## Here's the function that creates a new `dict(ionary)`.\ndict?",
     "language": "python",
     "metadata": {},
     "outputs": []
    },
    {
     "cell_type": "code",
     "collapsed": false,
     "input": "## We saw before that colors is a `dictionary` that maps color names to rgb tuples.\n## All dictionaries have `keys` that map to `values`.\n\n## Let's look at some special functions that you can use on dictionaries:\ncolors.keys()",
     "language": "python",
     "metadata": {},
     "outputs": []
    },
    {
     "cell_type": "code",
     "collapsed": false,
     "input": "len(colors.keys())",
     "language": "python",
     "metadata": {},
     "outputs": []
    },
    {
     "cell_type": "code",
     "collapsed": false,
     "input": "len(colors.values())",
     "language": "python",
     "metadata": {},
     "outputs": []
    },
    {
     "cell_type": "code",
     "collapsed": false,
     "input": "len(colors.keys()) == len(colors.values()) == len(colors.items()) == len(colors)",
     "language": "python",
     "metadata": {},
     "outputs": []
    },
    {
     "cell_type": "code",
     "collapsed": false,
     "input": "key = 'Honeydew'\nvalue = colors[key]\nshow_color(value[0], value[1], value[2])",
     "language": "python",
     "metadata": {},
     "outputs": []
    },
    {
     "cell_type": "code",
     "collapsed": false,
     "input": "print \"So dict(ionaries) are a `mapping` from keys -> values?\", True",
     "language": "python",
     "metadata": {},
     "outputs": []
    },
    {
     "cell_type": "code",
     "collapsed": false,
     "input": "'Honeydew' in colors.keys()",
     "language": "python",
     "metadata": {},
     "outputs": []
    },
    {
     "cell_type": "code",
     "collapsed": false,
     "input": "'Honeydew' in colors.keys() and 'Honeydew' in colors",
     "language": "python",
     "metadata": {},
     "outputs": []
    },
    {
     "cell_type": "code",
     "collapsed": false,
     "input": "## colors[key] is a shorthand syntax for calling the colors.get(key) function\ncolors.get('Honeydew') == colors['Honeydew']",
     "language": "python",
     "metadata": {},
     "outputs": []
    },
    {
     "cell_type": "code",
     "collapsed": false,
     "input": "print colors.get('PurpleRain')",
     "language": "python",
     "metadata": {},
     "outputs": []
    },
    {
     "cell_type": "code",
     "collapsed": false,
     "input": "'PurpleRain' in colors",
     "language": "python",
     "metadata": {},
     "outputs": []
    },
    {
     "cell_type": "code",
     "collapsed": false,
     "input": "## Let's look at `colors.get` a bit closer\nget_color = colors.get\nprint \"Does this work???\", get_color('Honeydew') == colors.get('Honeydew')\nprint \"They're the same?\", get_color == colors.get\nprint \"Are functions values, just like strings, ints, tuples and blocks?\", get_color in (colors.get, colors.keys)",
     "language": "python",
     "metadata": {},
     "outputs": []
    },
    {
     "cell_type": "code",
     "collapsed": false,
     "input": "input = 'Honeydew'\noutput = get_color(input)\n\nprint \"When get_color is called with input\", input, \"the output is\", output\n\nprint \"Which looks like this, when you use it as an RGB coloUr:\"\nshow_color(output[0], output[1], output[2])\n\n## So this function, and many others, are just mappings from input -> output,\n## a bit like dictionaries are mappings from key -> value.\n## It doesn't change anything or have any other 'side-effect'.\n",
     "language": "python",
     "metadata": {},
     "outputs": []
    },
    {
     "cell_type": "code",
     "collapsed": false,
     "input": "## Was `add_stripe` from the previous session such a function? \n## How about `make_grid` and `make_grid_v2`?",
     "language": "python",
     "metadata": {},
     "outputs": []
    },
    {
     "cell_type": "code",
     "collapsed": false,
     "input": "## What do you think this looks like?\n\nfrom ipythonblocks import BlockGrid\n\nw = 40\nh = 40\n\ndef calc_color(block):\n    red = 255 * float(w - block.col) / w\n    green = 255 * float(h - block.row) / h\n    blue = 255 * block.col / w\n    return (red, green, blue)\n\ndef calc_size(block):\n    return min(abs(w / 2 - block.col), abs(h / 2 - block.row))\n\ndef transform_block(block):\n    block.size = calc_size(block)\n    block.rgb = calc_color(block)    \n\n## construct a black grid\ngrid = BlockGrid(w, h, fill=(0,0,0))\n\n## transform each block\nmap(transform_block, grid)\n\n## This is exactly the same as \n#### for block in grid: \n####     transform_block(block)\n\n## and display it\ngrid\n",
     "language": "python",
     "metadata": {},
     "outputs": []
    },
    {
     "cell_type": "code",
     "collapsed": false,
     "input": "## Which of the 3 functions we defined and used above had a `side-effect`?",
     "language": "python",
     "metadata": {},
     "outputs": []
    },
    {
     "cell_type": "code",
     "collapsed": false,
     "input": "## This function isn't a simple mapping! It has a side-effect.\n\nfrom llc_python import mind_blown\n\nmind_blown()  # no input -> a rather surprising output",
     "language": "python",
     "metadata": {},
     "outputs": []
    },
    {
     "cell_type": "heading",
     "level": 1,
     "metadata": {},
     "source": "Sum(ming) Up"
    },
    {
     "cell_type": "code",
     "collapsed": false,
     "input": "sum([0,1,2,3,4,5,6,7,8,9])",
     "language": "python",
     "metadata": {},
     "outputs": []
    },
    {
     "cell_type": "code",
     "collapsed": false,
     "input": "sum(range(10))",
     "language": "python",
     "metadata": {},
     "outputs": []
    },
    {
     "cell_type": "code",
     "collapsed": false,
     "input": "difficulties = dict(introduction=0, hello_llc=1, ColorBlocks=2, PlayGrid=3, FeelingLoopy=4, Functions=5, MindBlown=6)\ndifficulties",
     "language": "python",
     "metadata": {},
     "outputs": []
    },
    {
     "cell_type": "code",
     "collapsed": false,
     "input": "print \"Your score:\", sum(difficulties.values())",
     "language": "python",
     "metadata": {},
     "outputs": []
    },
    {
     "cell_type": "code",
     "collapsed": false,
     "input": "## Well, maybe not\ndifficulties['MindBlown'] = 100\ndifficulties",
     "language": "python",
     "metadata": {},
     "outputs": []
    },
    {
     "cell_type": "code",
     "collapsed": false,
     "input": "## fix this\nprint \"Your score:\", ...",
     "language": "python",
     "metadata": {},
     "outputs": []
    },
    {
     "cell_type": "heading",
     "level": 1,
     "metadata": {},
     "source": "Where to go next?"
    },
    {
     "cell_type": "markdown",
     "metadata": {},
     "source": "Step back down the difficulty scale from this exercise and practice the fundamentals. Here are some great resources for that:"
    },
    {
     "cell_type": "markdown",
     "metadata": {},
     "source": "http://python.org/doc/"
    },
    {
     "cell_type": "markdown",
     "metadata": {},
     "source": "https://github.com/ipython/ipython/wiki/A-gallery-of-interesting-IPython-Notebooks"
    },
    {
     "cell_type": "markdown",
     "metadata": {},
     "source": "http://stackoverflow.com/questions/tagged/python"
    },
    {
     "cell_type": "markdown",
     "metadata": {},
     "source": "https://www.google.ca/search?q=learning+python"
    },
    {
     "cell_type": "markdown",
     "metadata": {},
     "source": "http://lifehacker.com/5401954/programmer-101-teach-yourself-how-to-code"
    }
   ],
   "metadata": {}
  }
 ]
}