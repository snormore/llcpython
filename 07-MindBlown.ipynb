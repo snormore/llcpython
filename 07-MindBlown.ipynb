{
 "metadata": {
  "name": "07-MindBlown"
 },
 "nbformat": 3,
 "nbformat_minor": 0,
 "worksheets": [
  {
   "cells": [
    {
     "cell_type": "code",
     "collapsed": false,
     "input": [
      "type(True)"
     ],
     "language": "python",
     "metadata": {},
     "outputs": []
    },
    {
     "cell_type": "code",
     "collapsed": false,
     "input": [
      "type(False)"
     ],
     "language": "python",
     "metadata": {},
     "outputs": []
    },
    {
     "cell_type": "code",
     "collapsed": false,
     "input": [
      "True and True"
     ],
     "language": "python",
     "metadata": {},
     "outputs": []
    },
    {
     "cell_type": "code",
     "collapsed": false,
     "input": [
      "False and False"
     ],
     "language": "python",
     "metadata": {},
     "outputs": []
    },
    {
     "cell_type": "code",
     "collapsed": false,
     "input": [
      "False and True"
     ],
     "language": "python",
     "metadata": {},
     "outputs": []
    },
    {
     "cell_type": "code",
     "collapsed": false,
     "input": [
      "True or False"
     ],
     "language": "python",
     "metadata": {},
     "outputs": []
    },
    {
     "cell_type": "markdown",
     "metadata": {},
     "source": [
      "You can thank <a href=\"http://en.wikipedia.org/wiki/George_Boole\" target=\"new\">George Bool(e)</a> for the funny name."
     ]
    },
    {
     "cell_type": "code",
     "collapsed": false,
     "input": [
      "1 == 1"
     ],
     "language": "python",
     "metadata": {},
     "outputs": []
    },
    {
     "cell_type": "code",
     "collapsed": false,
     "input": [
      "2 + 2 == 4"
     ],
     "language": "python",
     "metadata": {},
     "outputs": []
    },
    {
     "cell_type": "code",
     "collapsed": false,
     "input": [
      "True == False"
     ],
     "language": "python",
     "metadata": {},
     "outputs": []
    },
    {
     "cell_type": "heading",
     "level": 1,
     "metadata": {},
     "source": [
      "Testing for membership in `sequences` and other `collections`"
     ]
    },
    {
     "cell_type": "code",
     "collapsed": false,
     "input": [
      "1 in [3, 4, 5, 6]"
     ],
     "language": "python",
     "metadata": {},
     "outputs": []
    },
    {
     "cell_type": "code",
     "collapsed": false,
     "input": [
      "1 in (3, 4)"
     ],
     "language": "python",
     "metadata": {},
     "outputs": []
    },
    {
     "cell_type": "code",
     "collapsed": false,
     "input": [
      "1 in [1, 2, 3, 4]"
     ],
     "language": "python",
     "metadata": {},
     "outputs": []
    },
    {
     "cell_type": "code",
     "collapsed": false,
     "input": [
      "2 in (90, 2, 100)"
     ],
     "language": "python",
     "metadata": {},
     "outputs": []
    },
    {
     "cell_type": "code",
     "collapsed": false,
     "input": [
      "'a' in ('a', 'b', 'c')"
     ],
     "language": "python",
     "metadata": {},
     "outputs": []
    },
    {
     "cell_type": "code",
     "collapsed": false,
     "input": [
      "'a' in 'abcdefg'"
     ],
     "language": "python",
     "metadata": {},
     "outputs": []
    },
    {
     "cell_type": "code",
     "collapsed": false,
     "input": [
      "a_string = 'a sequence of characters'\n",
      "print a_string == 'a sequence of characters'"
     ],
     "language": "python",
     "metadata": {},
     "outputs": []
    },
    {
     "cell_type": "code",
     "collapsed": false,
     "input": [
      "sometimes_sunny = ('vancouver', 'seattle', 'portland')\n",
      "print \"Am I identical to myself?\", sometimes_sunny == sometimes_sunny\n",
      "print \"Is ...?\", 'vancouver' in sometimes_sunny"
     ],
     "language": "python",
     "metadata": {},
     "outputs": []
    },
    {
     "cell_type": "code",
     "collapsed": false,
     "input": [
      "cities = set(['vancouver', 'toronto', 'smithers', 'vancouver', 'smithers'])\n",
      "print \"Are the duplicates shown?\", cities, len(cities)\n",
      "print 'Is this a city?', 'bc' in cities\n"
     ],
     "language": "python",
     "metadata": {},
     "outputs": []
    },
    {
     "cell_type": "heading",
     "level": 3,
     "metadata": {},
     "source": [
      "These are all different, but yet they behave the same for the `in` operation. How???"
     ]
    },
    {
     "cell_type": "markdown",
     "metadata": {},
     "source": [
      "They all support a common `abstract` interface, which Python uses to test if something is `in` them."
     ]
    },
    {
     "cell_type": "markdown",
     "metadata": {},
     "source": [
      "This is an extremely powerful idea that Python makes great use of. \n",
      "When Python checks the len(gth) of something it is also using an abstract interface. \n",
      "It uses another one for getting things out of tuples, lists, grids, and dictionaries like `colors`.\n",
      "\n",
      "You can thank *Barbara Liskov* for this concept:\n",
      "\n",
      "<iframe width=\"1200\" height=\"900\" src=\"http://en.wikipedia.org/wiki/Barbara_Liskov\"></iframe> \n",
      "    "
     ]
    },
    {
     "cell_type": "heading",
     "level": 1,
     "metadata": {},
     "source": [
      "Now let's finish with some slightly harder concepts"
     ]
    },
    {
     "cell_type": "code",
     "collapsed": false,
     "input": [
      "## import our friends from ipythonblocks again: colors, show_color\n",
      "#..."
     ],
     "language": "python",
     "metadata": {},
     "outputs": []
    },
    {
     "cell_type": "code",
     "collapsed": false,
     "input": [
      "from ipythonblocks import colors, show_color"
     ],
     "language": "python",
     "metadata": {},
     "outputs": []
    },
    {
     "cell_type": "code",
     "collapsed": false,
     "input": [
      "type(colors)"
     ],
     "language": "python",
     "metadata": {},
     "outputs": []
    },
    {
     "cell_type": "code",
     "collapsed": false,
     "input": [
      "## Here's the function that creates a new `dict(ionary)`.\n",
      "dict?"
     ],
     "language": "python",
     "metadata": {},
     "outputs": []
    },
    {
     "cell_type": "code",
     "collapsed": false,
     "input": [
      "## We saw before that colors is a `dictionary` that maps color names to rgb tuples.\n",
      "## All dictionaries have `keys` that map to `values`.\n",
      "\n",
      "## Let's look at some special functions that you can use on dictionaries:\n",
      "colors.keys()"
     ],
     "language": "python",
     "metadata": {},
     "outputs": []
    },
    {
     "cell_type": "code",
     "collapsed": false,
     "input": [
      "len(colors.keys())"
     ],
     "language": "python",
     "metadata": {},
     "outputs": []
    },
    {
     "cell_type": "code",
     "collapsed": false,
     "input": [
      "len(colors.values())"
     ],
     "language": "python",
     "metadata": {},
     "outputs": []
    },
    {
     "cell_type": "code",
     "collapsed": false,
     "input": [
      "len(colors.keys()) == len(colors.values()) == len(colors.items()) == len(colors)"
     ],
     "language": "python",
     "metadata": {},
     "outputs": []
    },
    {
     "cell_type": "code",
     "collapsed": false,
     "input": [
      "key = 'Honeydew'\n",
      "value = colors[key]\n",
      "show_color(value[0], value[1], value[2])"
     ],
     "language": "python",
     "metadata": {},
     "outputs": []
    },
    {
     "cell_type": "code",
     "collapsed": false,
     "input": [
      "print \"So dict(ionaries) are a `mapping` from keys -> values?\", True"
     ],
     "language": "python",
     "metadata": {},
     "outputs": []
    },
    {
     "cell_type": "code",
     "collapsed": false,
     "input": [
      "'Honeydew' in colors.keys()"
     ],
     "language": "python",
     "metadata": {},
     "outputs": []
    },
    {
     "cell_type": "code",
     "collapsed": false,
     "input": [
      "'Honeydew' in colors.keys() and 'Honeydew' in colors"
     ],
     "language": "python",
     "metadata": {},
     "outputs": []
    },
    {
     "cell_type": "code",
     "collapsed": false,
     "input": [
      "## colors[key] is a shorthand syntax for calling the colors.get(key) function\n",
      "colors.get('Honeydew') == colors['Honeydew']"
     ],
     "language": "python",
     "metadata": {},
     "outputs": []
    },
    {
     "cell_type": "code",
     "collapsed": false,
     "input": [
      "print colors.get('PurpleRain')"
     ],
     "language": "python",
     "metadata": {},
     "outputs": []
    },
    {
     "cell_type": "code",
     "collapsed": false,
     "input": [
      "'PurpleRain' in colors"
     ],
     "language": "python",
     "metadata": {},
     "outputs": []
    },
    {
     "cell_type": "code",
     "collapsed": false,
     "input": [
      "## Let's look at `colors.get` a bit closer\n",
      "get_color = colors.get\n",
      "print \"Does this work???\", get_color('Honeydew') == colors.get('Honeydew')\n",
      "print \"They're the same?\", get_color == colors.get\n",
      "print \"Are functions values, just like strings, ints, tuples and blocks?\", get_color in (colors.get, colors.keys)"
     ],
     "language": "python",
     "metadata": {},
     "outputs": []
    },
    {
     "cell_type": "code",
     "collapsed": false,
     "input": [
      "input = 'Honeydew'\n",
      "output = get_color(input)\n",
      "print \"When get_color is called with input\", input, \"the output is\", output\n",
      "print \"Which looks like this, when you use it as an RGB coloUr:\"\n",
      "show_color(output[0], output[1], output[2])\n",
      "\n",
      "## So this function, and many others, are just mappings from input -> output,\n",
      "## a bit like dictionaries are mappings from key -> value.\n",
      "## It doesn't change anything or have any other 'side-effect'.\n"
     ],
     "language": "python",
     "metadata": {},
     "outputs": []
    },
    {
     "cell_type": "code",
     "collapsed": false,
     "input": [
      "## Was `add_stripe` from the previous session such a function? \n",
      "## How about `make_grid` and `make_grid_v2`?"
     ],
     "language": "python",
     "metadata": {},
     "outputs": []
    },
    {
     "cell_type": "code",
     "collapsed": false,
     "input": [
      "## This function isn't a simple mapping! It has a side-effect.\n",
      "\n",
      "from llc_python import mind_blown\n",
      "\n",
      "mind_blown()  # no input -> a rather surprising output"
     ],
     "language": "python",
     "metadata": {},
     "outputs": []
    }
   ],
   "metadata": {}
  }
 ]
}