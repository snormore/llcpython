{
 "metadata": {
  "name": "04-PlayGrid"
 },
 "nbformat": 3,
 "nbformat_minor": 0,
 "worksheets": [
  {
   "cells": [
    {
     "cell_type": "code",
     "collapsed": true,
     "input": [
      "from ipythonblocks import BlockGrid\n",
      "width = 3\n",
      "height = 15\n",
      "fill = (0, 150, 200)\n",
      "grid = BlockGrid(height, width, fill)\n",
      "grid"
     ],
     "language": "python",
     "metadata": {},
     "outputs": []
    },
    {
     "cell_type": "markdown",
     "metadata": {},
     "source": [
      "Oops! That's not the right order of the parameters. If you check `BlockGrid?`, you can see that width comes first."
     ]
    },
    {
     "cell_type": "code",
     "collapsed": false,
     "input": [
      "from ipythonblocks import BlockGrid\n",
      "width = 10\n",
      "height = 12\n",
      "fill = (0, 150, 200)\n",
      "grid = BlockGrid(width, height, fill)\n",
      "grid"
     ],
     "language": "python",
     "metadata": {},
     "outputs": []
    },
    {
     "cell_type": "markdown",
     "metadata": {},
     "source": [
      "**Exercise** Let's change some more things about the `grid` and see what happens.\n",
      "<ul>\n",
      "    <li>What happens when you change the argument name `fill` to `rgb`?</li>\n",
      "    <li>What happens when you change the order of the arguments in BlockGrid?</li>\n",
      "</ul>"
     ]
    },
    {
     "cell_type": "markdown",
     "metadata": {},
     "source": [
      "A BlockGrid has several attributes that allow you to access and alter it in different ways. The grid itself is a `sequence` of rows and each row is a `sequence` of individual blocks. You can refer to a particular row or column individually:"
     ]
    },
    {
     "cell_type": "code",
     "collapsed": false,
     "input": [
      "grid[0] # the first row"
     ],
     "language": "python",
     "metadata": {},
     "outputs": []
    },
    {
     "cell_type": "code",
     "collapsed": true,
     "input": [
      "row6 = grid[5] # [row]\n",
      "row6\n",
      "## Why is this row 6 not 5?"
     ],
     "language": "python",
     "metadata": {},
     "outputs": []
    },
    {
     "cell_type": "markdown",
     "metadata": {},
     "source": [
      "You can also refer to individual blocks. Individual blocks have different attributes for red, green, blue. "
     ]
    },
    {
     "cell_type": "code",
     "collapsed": false,
     "input": [
      "block1 = grid[0,0] # [row, col]\n",
      "block1.blue = 0\n",
      "block1"
     ],
     "language": "python",
     "metadata": {},
     "outputs": []
    },
    {
     "cell_type": "markdown",
     "metadata": {},
     "source": [
      "You can also change a block's color using its rgb tuple attribute."
     ]
    },
    {
     "cell_type": "code",
     "collapsed": false,
     "input": [
      "block2 = grid[5,5]\n",
      "block2.rgb = (255, 200, 0)\n",
      "block2"
     ],
     "language": "python",
     "metadata": {},
     "outputs": []
    },
    {
     "cell_type": "code",
     "collapsed": false,
     "input": [
      "## What do you think the entire `grid` looks like now?\n",
      "## How do you get IPython to show it?\n",
      "\n",
      "#...\n",
      "grid"
     ],
     "language": "python",
     "metadata": {},
     "outputs": []
    },
    {
     "cell_type": "markdown",
     "metadata": {},
     "source": [
      "**Question**\n",
      "<ul>\n",
      "    <li>What are the location indexes (row, col) for all the corners of the grid?</li>\n",
      "</ul>\n",
      "**Exercises**\n",
      "<ul>\n",
      "    <li>Change all the corners to red</li>\n",
      "    <li>Try choosing individual blocks and changing their colour using the red, green, and blue attributes, as well as the rgb attribute.</li>\n",
      "    <li>Can you draw a small happy face? :)</li>\n",
      "</ul>"
     ]
    },
    {
     "cell_type": "code",
     "collapsed": false,
     "input": [
      "## What do you think this will say? We saw the answer in the help info for BlockGrid.\n",
      "type(block1.rgb)\n",
      "\n",
      "\n",
      "## Use the ? help to find out what the `type` function does.  Ignore the second version on the last line."
     ],
     "language": "python",
     "metadata": {},
     "outputs": []
    },
    {
     "cell_type": "code",
     "collapsed": false,
     "input": [
      "## Use the help information for the function `len`\n",
      "\n",
      "## Now use the len function on the `rgb` attribute of `block1`.\n",
      "## Rember to use the parens () around the function argument."
     ],
     "language": "python",
     "metadata": {},
     "outputs": []
    },
    {
     "cell_type": "code",
     "collapsed": false,
     "input": [
      "## `tuple` is one of several \"sequence\" types.  `list` is another.  \n",
      "## Look up the help on both: list? and tuple?\n",
      "\n",
      "#...\n",
      "\n",
      "## Notice how they are almost identical!\n",
      "\n",
      "\n",
      "## What happens if you call `list()` on a tuple? list(a_tuple)\n",
      "## Try it on block1.rgb\n",
      "\n"
     ],
     "language": "python",
     "metadata": {},
     "outputs": []
    },
    {
     "cell_type": "code",
     "collapsed": false,
     "input": [
      "## Get the first element out of block1.rgb\n",
      "## It's just like getting the first row in the grid: grid[0].\n",
      "\n",
      "#...\n",
      "\n",
      "# Try the same for range(10). This function creates a sequence of numbers.\n",
      "\n",
      "#range(10)[ ... ] # <- fill this in ...\n",
      "\n",
      "## What is the type of range(10)?\n",
      "\n",
      "#type...\n"
     ],
     "language": "python",
     "metadata": {},
     "outputs": []
    },
    {
     "cell_type": "code",
     "collapsed": false,
     "input": [
      "green = (0, 200, 0)\n",
      "grid[2:4, 1:3] = green\n",
      "grid"
     ],
     "language": "python",
     "metadata": {},
     "outputs": []
    },
    {
     "cell_type": "code",
     "collapsed": false,
     "input": [
      "## What do you think this does?\n",
      "# a_list = [9, 8, 51, 52]\n",
      "# a_list[1:3]\n",
      "## and this\n",
      "# a_list[:3]"
     ],
     "language": "python",
     "metadata": {},
     "outputs": []
    },
    {
     "cell_type": "heading",
     "level": 1,
     "metadata": {},
     "source": [
      "Play Time"
     ]
    },
    {
     "cell_type": "markdown",
     "metadata": {},
     "source": [
      "Play with these concepts for bit!"
     ]
    }
   ],
   "metadata": {}
  }
 ]
}