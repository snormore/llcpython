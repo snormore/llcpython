{
 "metadata": {
  "name": "Introduction"
 },
 "nbformat": 3,
 "nbformat_minor": 0,
 "worksheets": [
  {
   "cells": [
    {
     "cell_type": "heading",
     "level": 1,
     "metadata": {},
     "source": "Welcome to Ladies Learning Code - Python!"
    },
    {
     "cell_type": "markdown",
     "metadata": {},
     "source": "The box below is an input cell for Python code.  Read the instructions and then click in the box to edit the code."
    },
    {
     "cell_type": "code",
     "collapsed": false,
     "input": "## Any line starting with one or more hash (#) is a comment. \n## Comments are for you and other readers of the code. Python ignores them.\n## We will use 2 ## for comments from us to you. \n## 4 #### for code samples you should type out again. \n## and 1 # for code that you should just uncomment and run.\n\n## Activate the next 2 lines by removing the leading hashes. \n## Then click the 'run cell' (play) button in the toolbar above (below 'kernel').\n    \n#from IPython.display import YouTubeVideo\n#YouTubeVideo(\"nKIu9yen5nc\")\n",
     "language": "python",
     "metadata": {},
     "outputs": []
    }
   ],
   "metadata": {}
  }
 ]
}