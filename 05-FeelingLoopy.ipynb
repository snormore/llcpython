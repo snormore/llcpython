{
 "metadata": {
  "name": "05-FeelingLoopy"
 },
 "nbformat": 3,
 "nbformat_minor": 0,
 "worksheets": [
  {
   "cells": [
    {
     "cell_type": "heading",
     "level": 1,
     "metadata": {},
     "source": [
      "Feeling Loopy"
     ]
    },
    {
     "cell_type": "code",
     "collapsed": false,
     "input": [
      "## Just like the beginning of the previous notebooks, import the BlockGrid and build one \n",
      "## to work with in this notebook. Make the grid 10x10 and some shade of dark blue. (Remember RGB!)\n",
      "\n",
      "#...import BlockGrid...\n",
      "#...make our `grid`..."
     ],
     "language": "python",
     "metadata": {},
     "outputs": []
    },
    {
     "cell_type": "code",
     "collapsed": false,
     "input": [
      "## What do you think this does? Lots of new code here, but you can probably imagine.\n",
      "\n",
      "for block in grid.animate:        # the : is required\n",
      "    ## note the 4 spaces of indentation here\n",
      "    print \"row\", block.row, \"col\", block.col\n",
      "    block.rgb = (112, 255, 134) # light green"
     ],
     "language": "python",
     "metadata": {},
     "outputs": []
    },
    {
     "cell_type": "markdown",
     "metadata": {},
     "source": [
      "Discuss this. What do you think the `syntax` rules are when using `for loops`?"
     ]
    },
    {
     "cell_type": "code",
     "collapsed": false,
     "input": [
      "## You already understand loops intuitively! Now let's get the syntax down.\n",
      "\n",
      "## See if you can loop over the blocks and make them blue again.\n",
      "#### for `part` in `larger_thing`:\n",
      "####     ... do something ...\n",
      "## Some other languages call this `foreach`.  In Python, it's a `for loop`.\n",
      "\n",
      "#..."
     ],
     "language": "python",
     "metadata": {},
     "outputs": []
    },
    {
     "cell_type": "code",
     "collapsed": false,
     "input": [
      "## Let's grab some extra coloUrs to play with.\n",
      "from ipythonblocks import colors\n",
      "\n",
      "colors\n",
      "    "
     ],
     "language": "python",
     "metadata": {},
     "outputs": []
    },
    {
     "cell_type": "code",
     "collapsed": false,
     "input": [
      "## Well, that was pretty boring!\n",
      "## How about some real coloUr?\n",
      "\n",
      "from ipythonblocks import show_color\n",
      "\n",
      "for name, rgb in colors.items():\n",
      "    print name\n",
      "    show_color(rgb[0], rgb[1], rgb[2])\n",
      "    "
     ],
     "language": "python",
     "metadata": {},
     "outputs": []
    },
    {
     "cell_type": "code",
     "collapsed": false,
     "input": [
      "our_colors = (colors['YellowGreen'], colors['Thistle'], colors['DarkSlateGray'])\n",
      "## yes, `our_colors` is a tuple of rgb tuples\n",
      "\n",
      "for rgb in our_colors:\n",
      "    for block in grid.animate:\n",
      "        block.rgb = rgb"
     ],
     "language": "python",
     "metadata": {},
     "outputs": []
    },
    {
     "cell_type": "heading",
     "level": 1,
     "metadata": {},
     "source": [
      "Are you feeling loopy yet?"
     ]
    },
    {
     "cell_type": "markdown",
     "metadata": {},
     "source": [
      "Play with this a bit."
     ]
    },
    {
     "cell_type": "heading",
     "level": 1,
     "metadata": {},
     "source": [
      "Back to our program(ming)"
     ]
    },
    {
     "cell_type": "code",
     "collapsed": false,
     "input": [
      "for block in grid:\n",
      "    if block.row == 2:\n",
      "        block.rgb = colors['Pink']\n",
      "        \n",
      "grid\n",
      "\n",
      "## change the code above to also change to pink if block.col == 4\n",
      "#### if block.row == 2 or block.col == 4:"
     ],
     "language": "python",
     "metadata": {},
     "outputs": []
    },
    {
     "cell_type": "code",
     "collapsed": false,
     "input": [
      "## Btw, what is the `type` of `colors`?\n",
      "## Ask IPython\n",
      "colors?"
     ],
     "language": "python",
     "metadata": {},
     "outputs": []
    },
    {
     "cell_type": "code",
     "collapsed": false,
     "input": [],
     "language": "python",
     "metadata": {},
     "outputs": []
    }
   ],
   "metadata": {}
  }
 ]
}